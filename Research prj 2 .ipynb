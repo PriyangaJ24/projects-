{
 "cells": [
  {
   "cell_type": "code",
   "execution_count": 2,
   "id": "c206139e",
   "metadata": {},
   "outputs": [],
   "source": [
    "%matplotlib inline\n",
    "import numpy as np\n",
    "import pandas as pd\n",
    "import matplotlib.pyplot as plt\n",
    "import seaborn as sns\n",
    "import lifetimes\n",
    "import os"
   ]
  },
  {
   "cell_type": "code",
   "execution_count": 3,
   "id": "e256328e",
   "metadata": {},
   "outputs": [],
   "source": [
    "pd.set_option('display.max_rows', 500)\n",
    "pd.set_option('display.max_columns', 500)\n",
    "pd.set_option('display.width', 1000)"
   ]
  },
  {
   "cell_type": "code",
   "execution_count": 5,
   "id": "04ae0e68",
   "metadata": {},
   "outputs": [
    {
     "data": {
      "text/plain": [
       "['InvoiceNo',\n",
       " 'StockCode',\n",
       " 'Description',\n",
       " 'Quantity',\n",
       " 'InvoiceDate',\n",
       " 'UnitPrice',\n",
       " 'CustomerID',\n",
       " 'Country']"
      ]
     },
     "execution_count": 5,
     "metadata": {},
     "output_type": "execute_result"
    }
   ],
   "source": [
    "df = pd.read_csv(\"OnlineRetail.csv\")\n",
    "list(df.columns)\n"
   ]
  },
  {
   "cell_type": "code",
   "execution_count": 6,
   "id": "1c3e77b6",
   "metadata": {},
   "outputs": [
    {
     "data": {
      "text/plain": [
       "(541909, 8)"
      ]
     },
     "execution_count": 6,
     "metadata": {},
     "output_type": "execute_result"
    }
   ],
   "source": [
    "df.shape"
   ]
  },
  {
   "cell_type": "code",
   "execution_count": 7,
   "id": "a49a47b2",
   "metadata": {},
   "outputs": [
    {
     "data": {
      "text/plain": [
       "InvoiceNo       object\n",
       "StockCode       object\n",
       "Description     object\n",
       "Quantity         int64\n",
       "InvoiceDate     object\n",
       "UnitPrice      float64\n",
       "CustomerID     float64\n",
       "Country         object\n",
       "dtype: object"
      ]
     },
     "execution_count": 7,
     "metadata": {},
     "output_type": "execute_result"
    }
   ],
   "source": [
    "df.dtypes\n"
   ]
  },
  {
   "cell_type": "code",
   "execution_count": 8,
   "id": "e72ecaa1",
   "metadata": {},
   "outputs": [
    {
     "data": {
      "text/html": [
       "<div>\n",
       "<style scoped>\n",
       "    .dataframe tbody tr th:only-of-type {\n",
       "        vertical-align: middle;\n",
       "    }\n",
       "\n",
       "    .dataframe tbody tr th {\n",
       "        vertical-align: top;\n",
       "    }\n",
       "\n",
       "    .dataframe thead th {\n",
       "        text-align: right;\n",
       "    }\n",
       "</style>\n",
       "<table border=\"1\" class=\"dataframe\">\n",
       "  <thead>\n",
       "    <tr style=\"text-align: right;\">\n",
       "      <th></th>\n",
       "      <th>InvoiceNo</th>\n",
       "      <th>StockCode</th>\n",
       "      <th>Description</th>\n",
       "      <th>Quantity</th>\n",
       "      <th>InvoiceDate</th>\n",
       "      <th>UnitPrice</th>\n",
       "      <th>CustomerID</th>\n",
       "      <th>Country</th>\n",
       "    </tr>\n",
       "  </thead>\n",
       "  <tbody>\n",
       "    <tr>\n",
       "      <th>0</th>\n",
       "      <td>False</td>\n",
       "      <td>False</td>\n",
       "      <td>False</td>\n",
       "      <td>False</td>\n",
       "      <td>False</td>\n",
       "      <td>False</td>\n",
       "      <td>False</td>\n",
       "      <td>False</td>\n",
       "    </tr>\n",
       "    <tr>\n",
       "      <th>1</th>\n",
       "      <td>False</td>\n",
       "      <td>False</td>\n",
       "      <td>False</td>\n",
       "      <td>False</td>\n",
       "      <td>False</td>\n",
       "      <td>False</td>\n",
       "      <td>False</td>\n",
       "      <td>False</td>\n",
       "    </tr>\n",
       "    <tr>\n",
       "      <th>2</th>\n",
       "      <td>False</td>\n",
       "      <td>False</td>\n",
       "      <td>False</td>\n",
       "      <td>False</td>\n",
       "      <td>False</td>\n",
       "      <td>False</td>\n",
       "      <td>False</td>\n",
       "      <td>False</td>\n",
       "    </tr>\n",
       "    <tr>\n",
       "      <th>3</th>\n",
       "      <td>False</td>\n",
       "      <td>False</td>\n",
       "      <td>False</td>\n",
       "      <td>False</td>\n",
       "      <td>False</td>\n",
       "      <td>False</td>\n",
       "      <td>False</td>\n",
       "      <td>False</td>\n",
       "    </tr>\n",
       "    <tr>\n",
       "      <th>4</th>\n",
       "      <td>False</td>\n",
       "      <td>False</td>\n",
       "      <td>False</td>\n",
       "      <td>False</td>\n",
       "      <td>False</td>\n",
       "      <td>False</td>\n",
       "      <td>False</td>\n",
       "      <td>False</td>\n",
       "    </tr>\n",
       "    <tr>\n",
       "      <th>...</th>\n",
       "      <td>...</td>\n",
       "      <td>...</td>\n",
       "      <td>...</td>\n",
       "      <td>...</td>\n",
       "      <td>...</td>\n",
       "      <td>...</td>\n",
       "      <td>...</td>\n",
       "      <td>...</td>\n",
       "    </tr>\n",
       "    <tr>\n",
       "      <th>541904</th>\n",
       "      <td>False</td>\n",
       "      <td>False</td>\n",
       "      <td>False</td>\n",
       "      <td>False</td>\n",
       "      <td>False</td>\n",
       "      <td>False</td>\n",
       "      <td>False</td>\n",
       "      <td>False</td>\n",
       "    </tr>\n",
       "    <tr>\n",
       "      <th>541905</th>\n",
       "      <td>False</td>\n",
       "      <td>False</td>\n",
       "      <td>False</td>\n",
       "      <td>False</td>\n",
       "      <td>False</td>\n",
       "      <td>False</td>\n",
       "      <td>False</td>\n",
       "      <td>False</td>\n",
       "    </tr>\n",
       "    <tr>\n",
       "      <th>541906</th>\n",
       "      <td>False</td>\n",
       "      <td>False</td>\n",
       "      <td>False</td>\n",
       "      <td>False</td>\n",
       "      <td>False</td>\n",
       "      <td>False</td>\n",
       "      <td>False</td>\n",
       "      <td>False</td>\n",
       "    </tr>\n",
       "    <tr>\n",
       "      <th>541907</th>\n",
       "      <td>False</td>\n",
       "      <td>False</td>\n",
       "      <td>False</td>\n",
       "      <td>False</td>\n",
       "      <td>False</td>\n",
       "      <td>False</td>\n",
       "      <td>False</td>\n",
       "      <td>False</td>\n",
       "    </tr>\n",
       "    <tr>\n",
       "      <th>541908</th>\n",
       "      <td>False</td>\n",
       "      <td>False</td>\n",
       "      <td>False</td>\n",
       "      <td>False</td>\n",
       "      <td>False</td>\n",
       "      <td>False</td>\n",
       "      <td>False</td>\n",
       "      <td>False</td>\n",
       "    </tr>\n",
       "  </tbody>\n",
       "</table>\n",
       "<p>541909 rows × 8 columns</p>\n",
       "</div>"
      ],
      "text/plain": [
       "        InvoiceNo  StockCode  Description  Quantity  InvoiceDate  UnitPrice  CustomerID  Country\n",
       "0           False      False        False     False        False      False       False    False\n",
       "1           False      False        False     False        False      False       False    False\n",
       "2           False      False        False     False        False      False       False    False\n",
       "3           False      False        False     False        False      False       False    False\n",
       "4           False      False        False     False        False      False       False    False\n",
       "...           ...        ...          ...       ...          ...        ...         ...      ...\n",
       "541904      False      False        False     False        False      False       False    False\n",
       "541905      False      False        False     False        False      False       False    False\n",
       "541906      False      False        False     False        False      False       False    False\n",
       "541907      False      False        False     False        False      False       False    False\n",
       "541908      False      False        False     False        False      False       False    False\n",
       "\n",
       "[541909 rows x 8 columns]"
      ]
     },
     "execution_count": 8,
     "metadata": {},
     "output_type": "execute_result"
    }
   ],
   "source": [
    "df.isnull()"
   ]
  },
  {
   "cell_type": "code",
   "execution_count": 9,
   "id": "11c3a9f2",
   "metadata": {},
   "outputs": [
    {
     "data": {
      "text/plain": [
       "InvoiceNo           0\n",
       "StockCode           0\n",
       "Description      1454\n",
       "Quantity            0\n",
       "InvoiceDate         0\n",
       "UnitPrice           0\n",
       "CustomerID     135080\n",
       "Country             0\n",
       "dtype: int64"
      ]
     },
     "execution_count": 9,
     "metadata": {},
     "output_type": "execute_result"
    }
   ],
   "source": [
    "df.isnull().sum()"
   ]
  },
  {
   "cell_type": "code",
   "execution_count": 10,
   "id": "bb776723",
   "metadata": {},
   "outputs": [
    {
     "data": {
      "text/html": [
       "<div>\n",
       "<style scoped>\n",
       "    .dataframe tbody tr th:only-of-type {\n",
       "        vertical-align: middle;\n",
       "    }\n",
       "\n",
       "    .dataframe tbody tr th {\n",
       "        vertical-align: top;\n",
       "    }\n",
       "\n",
       "    .dataframe thead th {\n",
       "        text-align: right;\n",
       "    }\n",
       "</style>\n",
       "<table border=\"1\" class=\"dataframe\">\n",
       "  <thead>\n",
       "    <tr style=\"text-align: right;\">\n",
       "      <th></th>\n",
       "      <th>InvoiceNo</th>\n",
       "      <th>StockCode</th>\n",
       "      <th>Description</th>\n",
       "      <th>Quantity</th>\n",
       "      <th>InvoiceDate</th>\n",
       "      <th>UnitPrice</th>\n",
       "      <th>CustomerID</th>\n",
       "      <th>Country</th>\n",
       "    </tr>\n",
       "  </thead>\n",
       "  <tbody>\n",
       "    <tr>\n",
       "      <th>622</th>\n",
       "      <td>536414</td>\n",
       "      <td>22139</td>\n",
       "      <td>NaN</td>\n",
       "      <td>56</td>\n",
       "      <td>2010-12-01 11:52</td>\n",
       "      <td>0.00</td>\n",
       "      <td>NaN</td>\n",
       "      <td>United Kingdom</td>\n",
       "    </tr>\n",
       "    <tr>\n",
       "      <th>1443</th>\n",
       "      <td>536544</td>\n",
       "      <td>21773</td>\n",
       "      <td>DECORATIVE ROSE BATHROOM BOTTLE</td>\n",
       "      <td>1</td>\n",
       "      <td>2010-12-01 14:32</td>\n",
       "      <td>2.51</td>\n",
       "      <td>NaN</td>\n",
       "      <td>United Kingdom</td>\n",
       "    </tr>\n",
       "    <tr>\n",
       "      <th>1444</th>\n",
       "      <td>536544</td>\n",
       "      <td>21774</td>\n",
       "      <td>DECORATIVE CATS BATHROOM BOTTLE</td>\n",
       "      <td>2</td>\n",
       "      <td>2010-12-01 14:32</td>\n",
       "      <td>2.51</td>\n",
       "      <td>NaN</td>\n",
       "      <td>United Kingdom</td>\n",
       "    </tr>\n",
       "    <tr>\n",
       "      <th>1445</th>\n",
       "      <td>536544</td>\n",
       "      <td>21786</td>\n",
       "      <td>POLKADOT RAIN HAT</td>\n",
       "      <td>4</td>\n",
       "      <td>2010-12-01 14:32</td>\n",
       "      <td>0.85</td>\n",
       "      <td>NaN</td>\n",
       "      <td>United Kingdom</td>\n",
       "    </tr>\n",
       "    <tr>\n",
       "      <th>1446</th>\n",
       "      <td>536544</td>\n",
       "      <td>21787</td>\n",
       "      <td>RAIN PONCHO RETROSPOT</td>\n",
       "      <td>2</td>\n",
       "      <td>2010-12-01 14:32</td>\n",
       "      <td>1.66</td>\n",
       "      <td>NaN</td>\n",
       "      <td>United Kingdom</td>\n",
       "    </tr>\n",
       "  </tbody>\n",
       "</table>\n",
       "</div>"
      ],
      "text/plain": [
       "     InvoiceNo StockCode                      Description  Quantity       InvoiceDate  UnitPrice  CustomerID         Country\n",
       "622     536414     22139                              NaN        56  2010-12-01 11:52       0.00         NaN  United Kingdom\n",
       "1443    536544     21773  DECORATIVE ROSE BATHROOM BOTTLE         1  2010-12-01 14:32       2.51         NaN  United Kingdom\n",
       "1444    536544     21774  DECORATIVE CATS BATHROOM BOTTLE         2  2010-12-01 14:32       2.51         NaN  United Kingdom\n",
       "1445    536544     21786               POLKADOT RAIN HAT          4  2010-12-01 14:32       0.85         NaN  United Kingdom\n",
       "1446    536544     21787            RAIN PONCHO RETROSPOT         2  2010-12-01 14:32       1.66         NaN  United Kingdom"
      ]
     },
     "execution_count": 10,
     "metadata": {},
     "output_type": "execute_result"
    }
   ],
   "source": [
    "df[df.CustomerID.isnull()].head()"
   ]
  },
  {
   "cell_type": "code",
   "execution_count": 11,
   "id": "e95d78b7",
   "metadata": {},
   "outputs": [
    {
     "data": {
      "text/plain": [
       "0.249266943342886"
      ]
     },
     "execution_count": 11,
     "metadata": {},
     "output_type": "execute_result"
    }
   ],
   "source": [
    "135080/df.shape[0] # 0.2492    df.shape[0] = len(df)"
   ]
  },
  {
   "cell_type": "code",
   "execution_count": 12,
   "id": "544e93a5",
   "metadata": {},
   "outputs": [
    {
     "data": {
      "text/plain": [
       "4372"
      ]
     },
     "execution_count": 12,
     "metadata": {},
     "output_type": "execute_result"
    }
   ],
   "source": [
    "df['CustomerID'].nunique()"
   ]
  },
  {
   "cell_type": "code",
   "execution_count": 13,
   "id": "0e8c9670",
   "metadata": {},
   "outputs": [
    {
     "data": {
      "text/plain": [
       "10624"
      ]
     },
     "execution_count": 13,
     "metadata": {},
     "output_type": "execute_result"
    }
   ],
   "source": [
    "len(df[df.Quantity<0])"
   ]
  },
  {
   "cell_type": "code",
   "execution_count": 14,
   "id": "50f23877",
   "metadata": {},
   "outputs": [],
   "source": [
    "dfnew = df[(df.Quantity>0) & (df.CustomerID.isnull() == False)]"
   ]
  },
  {
   "cell_type": "code",
   "execution_count": 15,
   "id": "4ddcc41b",
   "metadata": {},
   "outputs": [
    {
     "data": {
      "text/plain": [
       "(397924, 8)"
      ]
     },
     "execution_count": 15,
     "metadata": {},
     "output_type": "execute_result"
    }
   ],
   "source": [
    "dfnew.shape"
   ]
  },
  {
   "cell_type": "code",
   "execution_count": 16,
   "id": "ad5ecae4",
   "metadata": {},
   "outputs": [],
   "source": [
    "dfnew['amt'] = dfnew['Quantity'] * dfnew['UnitPrice']\n",
    "\n",
    "dfnew['InvoiceDate'] = pd.to_datetime(dfnew['InvoiceDate']).dt.date\n"
   ]
  },
  {
   "cell_type": "markdown",
   "id": "7b992c4f",
   "metadata": {},
   "source": [
    "# Customer lifetime value analysis"
   ]
  },
  {
   "cell_type": "code",
   "execution_count": 17,
   "id": "af2dfd8a",
   "metadata": {},
   "outputs": [],
   "source": [
    "from lifetimes.plotting import *\n",
    "from lifetimes.utils import *"
   ]
  },
  {
   "cell_type": "code",
   "execution_count": 18,
   "id": "36eea198",
   "metadata": {},
   "outputs": [
    {
     "data": {
      "text/html": [
       "<div>\n",
       "<style scoped>\n",
       "    .dataframe tbody tr th:only-of-type {\n",
       "        vertical-align: middle;\n",
       "    }\n",
       "\n",
       "    .dataframe tbody tr th {\n",
       "        vertical-align: top;\n",
       "    }\n",
       "\n",
       "    .dataframe thead th {\n",
       "        text-align: right;\n",
       "    }\n",
       "</style>\n",
       "<table border=\"1\" class=\"dataframe\">\n",
       "  <thead>\n",
       "    <tr style=\"text-align: right;\">\n",
       "      <th></th>\n",
       "      <th>frequency</th>\n",
       "      <th>recency</th>\n",
       "      <th>T</th>\n",
       "      <th>monetary_value</th>\n",
       "    </tr>\n",
       "    <tr>\n",
       "      <th>CustomerID</th>\n",
       "      <th></th>\n",
       "      <th></th>\n",
       "      <th></th>\n",
       "      <th></th>\n",
       "    </tr>\n",
       "  </thead>\n",
       "  <tbody>\n",
       "    <tr>\n",
       "      <th>12346.0</th>\n",
       "      <td>0.0</td>\n",
       "      <td>0.0</td>\n",
       "      <td>325.0</td>\n",
       "      <td>0.000000</td>\n",
       "    </tr>\n",
       "    <tr>\n",
       "      <th>12347.0</th>\n",
       "      <td>6.0</td>\n",
       "      <td>365.0</td>\n",
       "      <td>367.0</td>\n",
       "      <td>599.701667</td>\n",
       "    </tr>\n",
       "    <tr>\n",
       "      <th>12348.0</th>\n",
       "      <td>3.0</td>\n",
       "      <td>283.0</td>\n",
       "      <td>358.0</td>\n",
       "      <td>301.480000</td>\n",
       "    </tr>\n",
       "    <tr>\n",
       "      <th>12349.0</th>\n",
       "      <td>0.0</td>\n",
       "      <td>0.0</td>\n",
       "      <td>18.0</td>\n",
       "      <td>0.000000</td>\n",
       "    </tr>\n",
       "    <tr>\n",
       "      <th>12350.0</th>\n",
       "      <td>0.0</td>\n",
       "      <td>0.0</td>\n",
       "      <td>310.0</td>\n",
       "      <td>0.000000</td>\n",
       "    </tr>\n",
       "  </tbody>\n",
       "</table>\n",
       "</div>"
      ],
      "text/plain": [
       "            frequency  recency      T  monetary_value\n",
       "CustomerID                                           \n",
       "12346.0           0.0      0.0  325.0        0.000000\n",
       "12347.0           6.0    365.0  367.0      599.701667\n",
       "12348.0           3.0    283.0  358.0      301.480000\n",
       "12349.0           0.0      0.0   18.0        0.000000\n",
       "12350.0           0.0      0.0  310.0        0.000000"
      ]
     },
     "execution_count": 18,
     "metadata": {},
     "output_type": "execute_result"
    }
   ],
   "source": [
    "modeldata = summary_data_from_transaction_data(dfnew, 'CustomerID', 'InvoiceDate', monetary_value_col='amt', observation_period_end='2011-12-9')\n",
    "modeldata.head()\n"
   ]
  },
  {
   "cell_type": "code",
   "execution_count": 19,
   "id": "05f3bc25",
   "metadata": {},
   "outputs": [
    {
     "name": "stdout",
     "output_type": "stream",
     "text": [
      "count    4339.000000\n",
      "mean        2.864024\n",
      "std         5.952745\n",
      "min         0.000000\n",
      "25%         0.000000\n",
      "50%         1.000000\n",
      "75%         3.000000\n",
      "max       131.000000\n",
      "Name: frequency, dtype: float64\n",
      "0.3569946992394561\n"
     ]
    },
    {
     "data": {
      "image/png": "[encoded data removed]",
      "text/plain": [
       "<Figure size 640x480 with 1 Axes>"
      ]
     },
     "metadata": {},
     "output_type": "display_data"
    }
   ],
   "source": [
    "modeldata['frequency'].plot(kind='hist', bins=50)\n",
    "print(modeldata['frequency'].describe())\n",
    "print(sum(modeldata['frequency'] == 0)/float(len(modeldata)))"
   ]
  },
  {
   "cell_type": "code",
   "execution_count": 20,
   "id": "a8deacb5",
   "metadata": {},
   "outputs": [
    {
     "data": {
      "text/html": [
       "<div>\n",
       "<style scoped>\n",
       "    .dataframe tbody tr th:only-of-type {\n",
       "        vertical-align: middle;\n",
       "    }\n",
       "\n",
       "    .dataframe tbody tr th {\n",
       "        vertical-align: top;\n",
       "    }\n",
       "\n",
       "    .dataframe thead th {\n",
       "        text-align: right;\n",
       "    }\n",
       "</style>\n",
       "<table border=\"1\" class=\"dataframe\">\n",
       "  <thead>\n",
       "    <tr style=\"text-align: right;\">\n",
       "      <th></th>\n",
       "      <th>InvoiceNo</th>\n",
       "      <th>StockCode</th>\n",
       "      <th>Description</th>\n",
       "      <th>Quantity</th>\n",
       "      <th>InvoiceDate</th>\n",
       "      <th>UnitPrice</th>\n",
       "      <th>CustomerID</th>\n",
       "      <th>Country</th>\n",
       "      <th>amt</th>\n",
       "    </tr>\n",
       "  </thead>\n",
       "  <tbody>\n",
       "    <tr>\n",
       "      <th>61619</th>\n",
       "      <td>541431</td>\n",
       "      <td>23166</td>\n",
       "      <td>MEDIUM CERAMIC TOP STORAGE JAR</td>\n",
       "      <td>74215</td>\n",
       "      <td>2011-01-18</td>\n",
       "      <td>1.04</td>\n",
       "      <td>12346.0</td>\n",
       "      <td>United Kingdom</td>\n",
       "      <td>77183.6</td>\n",
       "    </tr>\n",
       "  </tbody>\n",
       "</table>\n",
       "</div>"
      ],
      "text/plain": [
       "      InvoiceNo StockCode                     Description  Quantity InvoiceDate  UnitPrice  CustomerID         Country      amt\n",
       "61619    541431     23166  MEDIUM CERAMIC TOP STORAGE JAR     74215  2011-01-18       1.04     12346.0  United Kingdom  77183.6"
      ]
     },
     "execution_count": 20,
     "metadata": {},
     "output_type": "execute_result"
    }
   ],
   "source": [
    "dfnew[dfnew.CustomerID == 12346.0]"
   ]
  },
  {
   "cell_type": "code",
   "execution_count": 21,
   "id": "e6486467",
   "metadata": {},
   "outputs": [],
   "source": [
    "#betageofitter to fit customer transaction data \n",
    "\n",
    "from lifetimes import BetaGeoFitter\n",
    "# similar API to scikit-learn and lifelines."
   ]
  },
  {
   "cell_type": "code",
   "execution_count": 22,
   "id": "89d0bc06",
   "metadata": {},
   "outputs": [],
   "source": [
    "bgf = BetaGeoFitter(penalizer_coef=0.0)"
   ]
  },
  {
   "cell_type": "code",
   "execution_count": 23,
   "id": "4ab47515",
   "metadata": {},
   "outputs": [
    {
     "name": "stdout",
     "output_type": "stream",
     "text": [
      "<lifetimes.BetaGeoFitter: fitted with 4339 subjects, a: 0.00, alpha: 68.89, b: 6.75, r: 0.83>\n"
     ]
    }
   ],
   "source": [
    "bgf.fit(modeldata['frequency'], modeldata['recency'], modeldata['T'])\n",
    "print(bgf)\n"
   ]
  },
  {
   "cell_type": "code",
   "execution_count": 24,
   "id": "7f030c85",
   "metadata": {},
   "outputs": [
    {
     "data": {
      "text/plain": [
       "<Axes: title={'center': 'Expected Number of Future Purchases for 1 Unit of Time,\\nby Frequency and Recency of a Customer'}, xlabel=\"Customer's Historical Frequency\", ylabel=\"Customer's Recency\">"
      ]
     },
     "execution_count": 24,
     "metadata": {},
     "output_type": "execute_result"
    },
    {
     "data": {
      "image/png": "[encoded data removed]",
      "text/plain": [
       "<Figure size 640x480 with 2 Axes>"
      ]
     },
     "metadata": {},
     "output_type": "display_data"
    }
   ],
   "source": [
    "# create frequency recency matrix\n",
    "from lifetimes.plotting import plot_frequency_recency_matrix\n",
    "\n",
    "plot_frequency_recency_matrix(bgf)\n"
   ]
  },
  {
   "cell_type": "code",
   "execution_count": 84,
   "id": "87c94233",
   "metadata": {},
   "outputs": [
    {
     "data": {
      "text/plain": [
       "<Axes: title={'center': 'Probability Customer is Alive,\\nby Frequency and Recency of a Customer'}, xlabel=\"Customer's Historical Frequency\", ylabel=\"Customer's Recency\">"
      ]
     },
     "execution_count": 84,
     "metadata": {},
     "output_type": "execute_result"
    },
    {
     "data": {
      "image/png": "[encoded data removed]",
      "text/plain": [
       "<Figure size 500x500 with 2 Axes>"
      ]
     },
     "metadata": {},
     "output_type": "display_data"
    }
   ],
   "source": [
    "from lifetimes.plotting import plot_probability_alive_matrix\n",
    "\n",
    "fig = plt.figure(figsize=(5,5))\n",
    "plot_probability_alive_matrix(bgf)"
   ]
  },
  {
   "cell_type": "code",
   "execution_count": 26,
   "id": "c0b6d7ff",
   "metadata": {},
   "outputs": [
    {
     "data": {
      "text/html": [
       "<div>\n",
       "<style scoped>\n",
       "    .dataframe tbody tr th:only-of-type {\n",
       "        vertical-align: middle;\n",
       "    }\n",
       "\n",
       "    .dataframe tbody tr th {\n",
       "        vertical-align: top;\n",
       "    }\n",
       "\n",
       "    .dataframe thead th {\n",
       "        text-align: right;\n",
       "    }\n",
       "</style>\n",
       "<table border=\"1\" class=\"dataframe\">\n",
       "  <thead>\n",
       "    <tr style=\"text-align: right;\">\n",
       "      <th></th>\n",
       "      <th>frequency</th>\n",
       "      <th>recency</th>\n",
       "      <th>T</th>\n",
       "      <th>monetary_value</th>\n",
       "      <th>predicted_purchases</th>\n",
       "    </tr>\n",
       "    <tr>\n",
       "      <th>CustomerID</th>\n",
       "      <th></th>\n",
       "      <th></th>\n",
       "      <th></th>\n",
       "      <th></th>\n",
       "      <th></th>\n",
       "    </tr>\n",
       "  </thead>\n",
       "  <tbody>\n",
       "    <tr>\n",
       "      <th>14606.0</th>\n",
       "      <td>88.0</td>\n",
       "      <td>372.0</td>\n",
       "      <td>373.0</td>\n",
       "      <td>135.890114</td>\n",
       "      <td>0.201005</td>\n",
       "    </tr>\n",
       "    <tr>\n",
       "      <th>15311.0</th>\n",
       "      <td>89.0</td>\n",
       "      <td>373.0</td>\n",
       "      <td>373.0</td>\n",
       "      <td>677.729438</td>\n",
       "      <td>0.203269</td>\n",
       "    </tr>\n",
       "    <tr>\n",
       "      <th>17841.0</th>\n",
       "      <td>111.0</td>\n",
       "      <td>372.0</td>\n",
       "      <td>373.0</td>\n",
       "      <td>364.452162</td>\n",
       "      <td>0.253053</td>\n",
       "    </tr>\n",
       "    <tr>\n",
       "      <th>12748.0</th>\n",
       "      <td>113.0</td>\n",
       "      <td>373.0</td>\n",
       "      <td>373.0</td>\n",
       "      <td>298.360885</td>\n",
       "      <td>0.257581</td>\n",
       "    </tr>\n",
       "    <tr>\n",
       "      <th>14911.0</th>\n",
       "      <td>131.0</td>\n",
       "      <td>372.0</td>\n",
       "      <td>373.0</td>\n",
       "      <td>1093.661679</td>\n",
       "      <td>0.298312</td>\n",
       "    </tr>\n",
       "  </tbody>\n",
       "</table>\n",
       "</div>"
      ],
      "text/plain": [
       "            frequency  recency      T  monetary_value  predicted_purchases\n",
       "CustomerID                                                                \n",
       "14606.0          88.0    372.0  373.0      135.890114             0.201005\n",
       "15311.0          89.0    373.0  373.0      677.729438             0.203269\n",
       "17841.0         111.0    372.0  373.0      364.452162             0.253053\n",
       "12748.0         113.0    373.0  373.0      298.360885             0.257581\n",
       "14911.0         131.0    372.0  373.0     1093.661679             0.298312"
      ]
     },
     "execution_count": 26,
     "metadata": {},
     "output_type": "execute_result"
    }
   ],
   "source": [
    "t = 1\n",
    "modeldata['predicted_purchases'] = bgf.conditional_expected_number_of_purchases_up_to_time(t, modeldata['frequency'], modeldata['recency'], modeldata['T'])\n",
    "modeldata.sort_values(by='predicted_purchases').tail(5)"
   ]
  },
  {
   "cell_type": "code",
   "execution_count": 27,
   "id": "b205e241",
   "metadata": {},
   "outputs": [
    {
     "data": {
      "text/html": [
       "<div>\n",
       "<style scoped>\n",
       "    .dataframe tbody tr th:only-of-type {\n",
       "        vertical-align: middle;\n",
       "    }\n",
       "\n",
       "    .dataframe tbody tr th {\n",
       "        vertical-align: top;\n",
       "    }\n",
       "\n",
       "    .dataframe thead th {\n",
       "        text-align: right;\n",
       "    }\n",
       "</style>\n",
       "<table border=\"1\" class=\"dataframe\">\n",
       "  <thead>\n",
       "    <tr style=\"text-align: right;\">\n",
       "      <th></th>\n",
       "      <th>frequency</th>\n",
       "      <th>recency</th>\n",
       "      <th>T</th>\n",
       "      <th>monetary_value</th>\n",
       "      <th>predicted_purchases</th>\n",
       "    </tr>\n",
       "    <tr>\n",
       "      <th>CustomerID</th>\n",
       "      <th></th>\n",
       "      <th></th>\n",
       "      <th></th>\n",
       "      <th></th>\n",
       "      <th></th>\n",
       "    </tr>\n",
       "  </thead>\n",
       "  <tbody>\n",
       "    <tr>\n",
       "      <th>18074.0</th>\n",
       "      <td>0.0</td>\n",
       "      <td>0.0</td>\n",
       "      <td>373.0</td>\n",
       "      <td>0.00</td>\n",
       "      <td>0.001870</td>\n",
       "    </tr>\n",
       "    <tr>\n",
       "      <th>16048.0</th>\n",
       "      <td>0.0</td>\n",
       "      <td>0.0</td>\n",
       "      <td>373.0</td>\n",
       "      <td>0.00</td>\n",
       "      <td>0.001870</td>\n",
       "    </tr>\n",
       "    <tr>\n",
       "      <th>16274.0</th>\n",
       "      <td>0.0</td>\n",
       "      <td>0.0</td>\n",
       "      <td>373.0</td>\n",
       "      <td>0.00</td>\n",
       "      <td>0.001870</td>\n",
       "    </tr>\n",
       "    <tr>\n",
       "      <th>14237.0</th>\n",
       "      <td>0.0</td>\n",
       "      <td>0.0</td>\n",
       "      <td>373.0</td>\n",
       "      <td>0.00</td>\n",
       "      <td>0.001870</td>\n",
       "    </tr>\n",
       "    <tr>\n",
       "      <th>14142.0</th>\n",
       "      <td>0.0</td>\n",
       "      <td>0.0</td>\n",
       "      <td>373.0</td>\n",
       "      <td>0.00</td>\n",
       "      <td>0.001870</td>\n",
       "    </tr>\n",
       "    <tr>\n",
       "      <th>...</th>\n",
       "      <td>...</td>\n",
       "      <td>...</td>\n",
       "      <td>...</td>\n",
       "      <td>...</td>\n",
       "      <td>...</td>\n",
       "    </tr>\n",
       "    <tr>\n",
       "      <th>17194.0</th>\n",
       "      <td>1.0</td>\n",
       "      <td>87.0</td>\n",
       "      <td>360.0</td>\n",
       "      <td>10.00</td>\n",
       "      <td>0.004245</td>\n",
       "    </tr>\n",
       "    <tr>\n",
       "      <th>14544.0</th>\n",
       "      <td>1.0</td>\n",
       "      <td>337.0</td>\n",
       "      <td>361.0</td>\n",
       "      <td>902.53</td>\n",
       "      <td>0.004246</td>\n",
       "    </tr>\n",
       "    <tr>\n",
       "      <th>17371.0</th>\n",
       "      <td>1.0</td>\n",
       "      <td>344.0</td>\n",
       "      <td>361.0</td>\n",
       "      <td>326.26</td>\n",
       "      <td>0.004246</td>\n",
       "    </tr>\n",
       "    <tr>\n",
       "      <th>15456.0</th>\n",
       "      <td>1.0</td>\n",
       "      <td>76.0</td>\n",
       "      <td>359.0</td>\n",
       "      <td>204.00</td>\n",
       "      <td>0.004253</td>\n",
       "    </tr>\n",
       "    <tr>\n",
       "      <th>16805.0</th>\n",
       "      <td>1.0</td>\n",
       "      <td>187.0</td>\n",
       "      <td>360.0</td>\n",
       "      <td>245.82</td>\n",
       "      <td>0.004253</td>\n",
       "    </tr>\n",
       "  </tbody>\n",
       "</table>\n",
       "<p>895 rows × 5 columns</p>\n",
       "</div>"
      ],
      "text/plain": [
       "            frequency  recency      T  monetary_value  predicted_purchases\n",
       "CustomerID                                                                \n",
       "18074.0           0.0      0.0  373.0            0.00             0.001870\n",
       "16048.0           0.0      0.0  373.0            0.00             0.001870\n",
       "16274.0           0.0      0.0  373.0            0.00             0.001870\n",
       "14237.0           0.0      0.0  373.0            0.00             0.001870\n",
       "14142.0           0.0      0.0  373.0            0.00             0.001870\n",
       "...               ...      ...    ...             ...                  ...\n",
       "17194.0           1.0     87.0  360.0           10.00             0.004245\n",
       "14544.0           1.0    337.0  361.0          902.53             0.004246\n",
       "17371.0           1.0    344.0  361.0          326.26             0.004246\n",
       "15456.0           1.0     76.0  359.0          204.00             0.004253\n",
       "16805.0           1.0    187.0  360.0          245.82             0.004253\n",
       "\n",
       "[895 rows x 5 columns]"
      ]
     },
     "execution_count": 27,
     "metadata": {},
     "output_type": "execute_result"
    }
   ],
   "source": [
    "modeldata.sort_values(by='predicted_purchases').head(895)"
   ]
  },
  {
   "cell_type": "code",
   "execution_count": 28,
   "id": "fdddfe1d",
   "metadata": {},
   "outputs": [
    {
     "name": "stdout",
     "output_type": "stream",
     "text": [
      "            frequency_cal  recency_cal  T_cal  frequency_holdout  duration_holdout\n",
      "CustomerID                                                                        \n",
      "12346.0               0.0          0.0  141.0                0.0             184.0\n",
      "12347.0               2.0        121.0  183.0                4.0             184.0\n",
      "12348.0               2.0        110.0  174.0                1.0             184.0\n",
      "12350.0               0.0          0.0  126.0                0.0             184.0\n",
      "12352.0               3.0         34.0  112.0                3.0             184.0\n"
     ]
    },
    {
     "data": {
      "image/png": "[encoded data removed]",
      "text/plain": [
       "<Figure size 640x480 with 1 Axes>"
      ]
     },
     "metadata": {},
     "output_type": "display_data"
    }
   ],
   "source": [
    "from lifetimes.plotting import plot_period_transactions\n",
    "plot_period_transactions(bgf)\n",
    "\n",
    "\n",
    "summary_cal_holdout = calibration_and_holdout_data(df, 'CustomerID', 'InvoiceDate',\n",
    "                                        calibration_period_end='2011-06-08',\n",
    "                                        observation_period_end='2011-12-9' )   \n",
    "print(summary_cal_holdout.head())"
   ]
  },
  {
   "cell_type": "code",
   "execution_count": 29,
   "id": "1425307b",
   "metadata": {},
   "outputs": [
    {
     "name": "stderr",
     "output_type": "stream",
     "text": [
      "C:\\Users\\Harip\\anaconda3\\Anaconda\\lib\\site-packages\\pandas\\core\\arraylike.py:402: RuntimeWarning: invalid value encountered in log\n",
      "  result = getattr(ufunc, method)(*inputs, **kwargs)\n"
     ]
    },
    {
     "data": {
      "text/plain": [
       "<Axes: title={'center': 'Actual Purchases in Holdout Period vs Predicted Purchases'}, xlabel='Purchases in calibration period', ylabel='Average of Purchases in Holdout Period'>"
      ]
     },
     "execution_count": 29,
     "metadata": {},
     "output_type": "execute_result"
    },
    {
     "data": {
      "image/png": "[encoded data removed]",
      "text/plain": [
       "<Figure size 640x480 with 1 Axes>"
      ]
     },
     "metadata": {},
     "output_type": "display_data"
    }
   ],
   "source": [
    "from lifetimes.plotting import plot_calibration_purchases_vs_holdout_purchases\n",
    "bgf.fit(summary_cal_holdout['frequency_cal'], summary_cal_holdout['recency_cal'], summary_cal_holdout['T_cal'])\n",
    "plot_calibration_purchases_vs_holdout_purchases(bgf, summary_cal_holdout)\n"
   ]
  },
  {
   "cell_type": "code",
   "execution_count": 30,
   "id": "d690e666",
   "metadata": {},
   "outputs": [
    {
     "data": {
      "text/plain": [
       "0.15861476348707357"
      ]
     },
     "execution_count": 30,
     "metadata": {},
     "output_type": "execute_result"
    }
   ],
   "source": [
    "t = 10\n",
    "individual = modeldata.loc[12380]\n",
    "bgf.predict(t, individual['frequency'], individual['recency'], individual['T'])"
   ]
  },
  {
   "cell_type": "markdown",
   "id": "41f05188",
   "metadata": {},
   "source": [
    "With the CLV model we have created,\n",
    "we can specifically estimate a customer's historical probability of \n",
    "being alive. "
   ]
  },
  {
   "cell_type": "code",
   "execution_count": 31,
   "id": "376ac26d",
   "metadata": {},
   "outputs": [],
   "source": [
    "from lifetimes.plotting import plot_history_alive\n",
    "import matplotlib.pyplot as plt"
   ]
  },
  {
   "cell_type": "code",
   "execution_count": 32,
   "id": "3818b956",
   "metadata": {},
   "outputs": [
    {
     "ename": "TypeError",
     "evalue": "'value' must be an instance of str or bytes, not a pandas._libs.tslibs.timestamps.Timestamp",
     "output_type": "error",
     "traceback": [
      "\u001b[1;31m---------------------------------------------------------------------------\u001b[0m",
      "\u001b[1;31mTypeError\u001b[0m                                 Traceback (most recent call last)",
      "Cell \u001b[1;32mIn[32], line 5\u001b[0m\n\u001b[0;32m      3\u001b[0m days_since_birth \u001b[38;5;241m=\u001b[39m \u001b[38;5;241m365\u001b[39m\n\u001b[0;32m      4\u001b[0m sp_trans \u001b[38;5;241m=\u001b[39m df\u001b[38;5;241m.\u001b[39mloc[df[\u001b[38;5;124m'\u001b[39m\u001b[38;5;124mCustomerID\u001b[39m\u001b[38;5;124m'\u001b[39m] \u001b[38;5;241m==\u001b[39m \u001b[38;5;28mid\u001b[39m]\n\u001b[1;32m----> 5\u001b[0m \u001b[43mplot_history_alive\u001b[49m\u001b[43m(\u001b[49m\u001b[43mbgf\u001b[49m\u001b[43m,\u001b[49m\u001b[43m \u001b[49m\u001b[43mdays_since_birth\u001b[49m\u001b[43m,\u001b[49m\u001b[43m \u001b[49m\u001b[43msp_trans\u001b[49m\u001b[43m,\u001b[49m\u001b[43m \u001b[49m\u001b[38;5;124;43m'\u001b[39;49m\u001b[38;5;124;43mInvoiceDate\u001b[39;49m\u001b[38;5;124;43m'\u001b[39;49m\u001b[43m)\u001b[49m\n",
      "File \u001b[1;32m~\\anaconda3\\Anaconda\\lib\\site-packages\\lifetimes\\plotting.py:384\u001b[0m, in \u001b[0;36mplot_history_alive\u001b[1;34m(model, t, transactions, datetime_col, freq, start_date, ax, **kwargs)\u001b[0m\n\u001b[0;32m    382\u001b[0m plt\u001b[38;5;241m.\u001b[39mylim(\u001b[38;5;241m0\u001b[39m, \u001b[38;5;241m1.0\u001b[39m)\n\u001b[0;32m    383\u001b[0m plt\u001b[38;5;241m.\u001b[39myticks(np\u001b[38;5;241m.\u001b[39marange(\u001b[38;5;241m0\u001b[39m, \u001b[38;5;241m1.1\u001b[39m, \u001b[38;5;241m0.1\u001b[39m))\n\u001b[1;32m--> 384\u001b[0m \u001b[43mplt\u001b[49m\u001b[38;5;241;43m.\u001b[39;49m\u001b[43mxlim\u001b[49m\u001b[43m(\u001b[49m\u001b[43mstart_date\u001b[49m\u001b[43m,\u001b[49m\u001b[43m \u001b[49m\u001b[43mpath_dates\u001b[49m\u001b[43m[\u001b[49m\u001b[38;5;241;43m-\u001b[39;49m\u001b[38;5;241;43m1\u001b[39;49m\u001b[43m]\u001b[49m\u001b[43m)\u001b[49m\n\u001b[0;32m    385\u001b[0m plt\u001b[38;5;241m.\u001b[39mlegend(loc\u001b[38;5;241m=\u001b[39m\u001b[38;5;241m3\u001b[39m)\n\u001b[0;32m    386\u001b[0m plt\u001b[38;5;241m.\u001b[39mylabel(\u001b[38;5;124m\"\u001b[39m\u001b[38;5;124mP_alive\u001b[39m\u001b[38;5;124m\"\u001b[39m)\n",
      "File \u001b[1;32m~\\anaconda3\\Anaconda\\lib\\site-packages\\matplotlib\\pyplot.py:1767\u001b[0m, in \u001b[0;36mxlim\u001b[1;34m(*args, **kwargs)\u001b[0m\n\u001b[0;32m   1765\u001b[0m \u001b[38;5;28;01mif\u001b[39;00m \u001b[38;5;129;01mnot\u001b[39;00m args \u001b[38;5;129;01mand\u001b[39;00m \u001b[38;5;129;01mnot\u001b[39;00m kwargs:\n\u001b[0;32m   1766\u001b[0m     \u001b[38;5;28;01mreturn\u001b[39;00m ax\u001b[38;5;241m.\u001b[39mget_xlim()\n\u001b[1;32m-> 1767\u001b[0m ret \u001b[38;5;241m=\u001b[39m ax\u001b[38;5;241m.\u001b[39mset_xlim(\u001b[38;5;241m*\u001b[39margs, \u001b[38;5;241m*\u001b[39m\u001b[38;5;241m*\u001b[39mkwargs)\n\u001b[0;32m   1768\u001b[0m \u001b[38;5;28;01mreturn\u001b[39;00m ret\n",
      "File \u001b[1;32m~\\anaconda3\\Anaconda\\lib\\site-packages\\matplotlib\\_api\\deprecation.py:454\u001b[0m, in \u001b[0;36mmake_keyword_only.<locals>.wrapper\u001b[1;34m(*args, **kwargs)\u001b[0m\n\u001b[0;32m    448\u001b[0m \u001b[38;5;28;01mif\u001b[39;00m \u001b[38;5;28mlen\u001b[39m(args) \u001b[38;5;241m>\u001b[39m name_idx:\n\u001b[0;32m    449\u001b[0m     warn_deprecated(\n\u001b[0;32m    450\u001b[0m         since, message\u001b[38;5;241m=\u001b[39m\u001b[38;5;124m\"\u001b[39m\u001b[38;5;124mPassing the \u001b[39m\u001b[38;5;132;01m%(name)s\u001b[39;00m\u001b[38;5;124m \u001b[39m\u001b[38;5;132;01m%(obj_type)s\u001b[39;00m\u001b[38;5;124m \u001b[39m\u001b[38;5;124m\"\u001b[39m\n\u001b[0;32m    451\u001b[0m         \u001b[38;5;124m\"\u001b[39m\u001b[38;5;124mpositionally is deprecated since Matplotlib \u001b[39m\u001b[38;5;132;01m%(since)s\u001b[39;00m\u001b[38;5;124m; the \u001b[39m\u001b[38;5;124m\"\u001b[39m\n\u001b[0;32m    452\u001b[0m         \u001b[38;5;124m\"\u001b[39m\u001b[38;5;124mparameter will become keyword-only \u001b[39m\u001b[38;5;132;01m%(removal)s\u001b[39;00m\u001b[38;5;124m.\u001b[39m\u001b[38;5;124m\"\u001b[39m,\n\u001b[0;32m    453\u001b[0m         name\u001b[38;5;241m=\u001b[39mname, obj_type\u001b[38;5;241m=\u001b[39m\u001b[38;5;124mf\u001b[39m\u001b[38;5;124m\"\u001b[39m\u001b[38;5;124mparameter of \u001b[39m\u001b[38;5;132;01m{\u001b[39;00mfunc\u001b[38;5;241m.\u001b[39m\u001b[38;5;18m__name__\u001b[39m\u001b[38;5;132;01m}\u001b[39;00m\u001b[38;5;124m()\u001b[39m\u001b[38;5;124m\"\u001b[39m)\n\u001b[1;32m--> 454\u001b[0m \u001b[38;5;28;01mreturn\u001b[39;00m func(\u001b[38;5;241m*\u001b[39margs, \u001b[38;5;241m*\u001b[39m\u001b[38;5;241m*\u001b[39mkwargs)\n",
      "File \u001b[1;32m~\\anaconda3\\Anaconda\\lib\\site-packages\\matplotlib\\axes\\_base.py:3652\u001b[0m, in \u001b[0;36m_AxesBase.set_xlim\u001b[1;34m(self, left, right, emit, auto, xmin, xmax)\u001b[0m\n\u001b[0;32m   3650\u001b[0m         \u001b[38;5;28;01mraise\u001b[39;00m \u001b[38;5;167;01mTypeError\u001b[39;00m(\u001b[38;5;124m\"\u001b[39m\u001b[38;5;124mCannot pass both \u001b[39m\u001b[38;5;124m'\u001b[39m\u001b[38;5;124mright\u001b[39m\u001b[38;5;124m'\u001b[39m\u001b[38;5;124m and \u001b[39m\u001b[38;5;124m'\u001b[39m\u001b[38;5;124mxmax\u001b[39m\u001b[38;5;124m'\u001b[39m\u001b[38;5;124m\"\u001b[39m)\n\u001b[0;32m   3651\u001b[0m     right \u001b[38;5;241m=\u001b[39m xmax\n\u001b[1;32m-> 3652\u001b[0m \u001b[38;5;28;01mreturn\u001b[39;00m \u001b[38;5;28;43mself\u001b[39;49m\u001b[38;5;241;43m.\u001b[39;49m\u001b[43mxaxis\u001b[49m\u001b[38;5;241;43m.\u001b[39;49m\u001b[43m_set_lim\u001b[49m\u001b[43m(\u001b[49m\u001b[43mleft\u001b[49m\u001b[43m,\u001b[49m\u001b[43m \u001b[49m\u001b[43mright\u001b[49m\u001b[43m,\u001b[49m\u001b[43m \u001b[49m\u001b[43memit\u001b[49m\u001b[38;5;241;43m=\u001b[39;49m\u001b[43memit\u001b[49m\u001b[43m,\u001b[49m\u001b[43m \u001b[49m\u001b[43mauto\u001b[49m\u001b[38;5;241;43m=\u001b[39;49m\u001b[43mauto\u001b[49m\u001b[43m)\u001b[49m\n",
      "File \u001b[1;32m~\\anaconda3\\Anaconda\\lib\\site-packages\\matplotlib\\axis.py:1178\u001b[0m, in \u001b[0;36mAxis._set_lim\u001b[1;34m(self, v0, v1, emit, auto)\u001b[0m\n\u001b[0;32m   1158\u001b[0m \u001b[38;5;124;03m\"\"\"\u001b[39;00m\n\u001b[0;32m   1159\u001b[0m \u001b[38;5;124;03mSet view limits.\u001b[39;00m\n\u001b[0;32m   1160\u001b[0m \n\u001b[1;32m   (...)\u001b[0m\n\u001b[0;32m   1173\u001b[0m \u001b[38;5;124;03m    turns off, None leaves unchanged.\u001b[39;00m\n\u001b[0;32m   1174\u001b[0m \u001b[38;5;124;03m\"\"\"\u001b[39;00m\n\u001b[0;32m   1175\u001b[0m name, \u001b[38;5;241m=\u001b[39m [name \u001b[38;5;28;01mfor\u001b[39;00m name, axis \u001b[38;5;129;01min\u001b[39;00m \u001b[38;5;28mself\u001b[39m\u001b[38;5;241m.\u001b[39maxes\u001b[38;5;241m.\u001b[39m_axis_map\u001b[38;5;241m.\u001b[39mitems()\n\u001b[0;32m   1176\u001b[0m          \u001b[38;5;28;01mif\u001b[39;00m axis \u001b[38;5;129;01mis\u001b[39;00m \u001b[38;5;28mself\u001b[39m]  \u001b[38;5;66;03m# The axis name.\u001b[39;00m\n\u001b[1;32m-> 1178\u001b[0m \u001b[38;5;28;43mself\u001b[39;49m\u001b[38;5;241;43m.\u001b[39;49m\u001b[43maxes\u001b[49m\u001b[38;5;241;43m.\u001b[39;49m\u001b[43m_process_unit_info\u001b[49m\u001b[43m(\u001b[49m\u001b[43m[\u001b[49m\u001b[43m(\u001b[49m\u001b[43mname\u001b[49m\u001b[43m,\u001b[49m\u001b[43m \u001b[49m\u001b[43m(\u001b[49m\u001b[43mv0\u001b[49m\u001b[43m,\u001b[49m\u001b[43m \u001b[49m\u001b[43mv1\u001b[49m\u001b[43m)\u001b[49m\u001b[43m)\u001b[49m\u001b[43m]\u001b[49m\u001b[43m,\u001b[49m\u001b[43m \u001b[49m\u001b[43mconvert\u001b[49m\u001b[38;5;241;43m=\u001b[39;49m\u001b[38;5;28;43;01mFalse\u001b[39;49;00m\u001b[43m)\u001b[49m\n\u001b[0;32m   1179\u001b[0m v0 \u001b[38;5;241m=\u001b[39m \u001b[38;5;28mself\u001b[39m\u001b[38;5;241m.\u001b[39maxes\u001b[38;5;241m.\u001b[39m_validate_converted_limits(v0, \u001b[38;5;28mself\u001b[39m\u001b[38;5;241m.\u001b[39mconvert_units)\n\u001b[0;32m   1180\u001b[0m v1 \u001b[38;5;241m=\u001b[39m \u001b[38;5;28mself\u001b[39m\u001b[38;5;241m.\u001b[39maxes\u001b[38;5;241m.\u001b[39m_validate_converted_limits(v1, \u001b[38;5;28mself\u001b[39m\u001b[38;5;241m.\u001b[39mconvert_units)\n",
      "File \u001b[1;32m~\\anaconda3\\Anaconda\\lib\\site-packages\\matplotlib\\axes\\_base.py:2551\u001b[0m, in \u001b[0;36m_AxesBase._process_unit_info\u001b[1;34m(self, datasets, kwargs, convert)\u001b[0m\n\u001b[0;32m   2547\u001b[0m     \u001b[38;5;66;03m# Update from data if axis is already set but no unit is set yet.\u001b[39;00m\n\u001b[0;32m   2548\u001b[0m     \u001b[38;5;28;01mif\u001b[39;00m (axis \u001b[38;5;129;01mis\u001b[39;00m \u001b[38;5;129;01mnot\u001b[39;00m \u001b[38;5;28;01mNone\u001b[39;00m \u001b[38;5;129;01mand\u001b[39;00m\n\u001b[0;32m   2549\u001b[0m             data \u001b[38;5;129;01mis\u001b[39;00m \u001b[38;5;129;01mnot\u001b[39;00m \u001b[38;5;28;01mNone\u001b[39;00m \u001b[38;5;129;01mand\u001b[39;00m\n\u001b[0;32m   2550\u001b[0m             \u001b[38;5;129;01mnot\u001b[39;00m axis\u001b[38;5;241m.\u001b[39m_have_units_and_converter()):\n\u001b[1;32m-> 2551\u001b[0m         \u001b[43maxis\u001b[49m\u001b[38;5;241;43m.\u001b[39;49m\u001b[43mupdate_units\u001b[49m\u001b[43m(\u001b[49m\u001b[43mdata\u001b[49m\u001b[43m)\u001b[49m\n\u001b[0;32m   2552\u001b[0m \u001b[38;5;28;01mfor\u001b[39;00m axis_name, axis \u001b[38;5;129;01min\u001b[39;00m axis_map\u001b[38;5;241m.\u001b[39mitems():\n\u001b[0;32m   2553\u001b[0m     \u001b[38;5;66;03m# Return if no axis is set.\u001b[39;00m\n\u001b[0;32m   2554\u001b[0m     \u001b[38;5;28;01mif\u001b[39;00m axis \u001b[38;5;129;01mis\u001b[39;00m \u001b[38;5;28;01mNone\u001b[39;00m:\n",
      "File \u001b[1;32m~\\anaconda3\\Anaconda\\lib\\site-packages\\matplotlib\\axis.py:1670\u001b[0m, in \u001b[0;36mAxis.update_units\u001b[1;34m(self, data)\u001b[0m\n\u001b[0;32m   1668\u001b[0m neednew \u001b[38;5;241m=\u001b[39m \u001b[38;5;28mself\u001b[39m\u001b[38;5;241m.\u001b[39mconverter \u001b[38;5;241m!=\u001b[39m converter\n\u001b[0;32m   1669\u001b[0m \u001b[38;5;28mself\u001b[39m\u001b[38;5;241m.\u001b[39mconverter \u001b[38;5;241m=\u001b[39m converter\n\u001b[1;32m-> 1670\u001b[0m default \u001b[38;5;241m=\u001b[39m \u001b[38;5;28;43mself\u001b[39;49m\u001b[38;5;241;43m.\u001b[39;49m\u001b[43mconverter\u001b[49m\u001b[38;5;241;43m.\u001b[39;49m\u001b[43mdefault_units\u001b[49m\u001b[43m(\u001b[49m\u001b[43mdata\u001b[49m\u001b[43m,\u001b[49m\u001b[43m \u001b[49m\u001b[38;5;28;43mself\u001b[39;49m\u001b[43m)\u001b[49m\n\u001b[0;32m   1671\u001b[0m \u001b[38;5;28;01mif\u001b[39;00m default \u001b[38;5;129;01mis\u001b[39;00m \u001b[38;5;129;01mnot\u001b[39;00m \u001b[38;5;28;01mNone\u001b[39;00m \u001b[38;5;129;01mand\u001b[39;00m \u001b[38;5;28mself\u001b[39m\u001b[38;5;241m.\u001b[39munits \u001b[38;5;129;01mis\u001b[39;00m \u001b[38;5;28;01mNone\u001b[39;00m:\n\u001b[0;32m   1672\u001b[0m     \u001b[38;5;28mself\u001b[39m\u001b[38;5;241m.\u001b[39mset_units(default)\n",
      "File \u001b[1;32m~\\anaconda3\\Anaconda\\lib\\site-packages\\matplotlib\\category.py:105\u001b[0m, in \u001b[0;36mStrCategoryConverter.default_units\u001b[1;34m(data, axis)\u001b[0m\n\u001b[0;32m    103\u001b[0m \u001b[38;5;66;03m# the conversion call stack is default_units -> axis_info -> convert\u001b[39;00m\n\u001b[0;32m    104\u001b[0m \u001b[38;5;28;01mif\u001b[39;00m axis\u001b[38;5;241m.\u001b[39munits \u001b[38;5;129;01mis\u001b[39;00m \u001b[38;5;28;01mNone\u001b[39;00m:\n\u001b[1;32m--> 105\u001b[0m     axis\u001b[38;5;241m.\u001b[39mset_units(\u001b[43mUnitData\u001b[49m\u001b[43m(\u001b[49m\u001b[43mdata\u001b[49m\u001b[43m)\u001b[49m)\n\u001b[0;32m    106\u001b[0m \u001b[38;5;28;01melse\u001b[39;00m:\n\u001b[0;32m    107\u001b[0m     axis\u001b[38;5;241m.\u001b[39munits\u001b[38;5;241m.\u001b[39mupdate(data)\n",
      "File \u001b[1;32m~\\anaconda3\\Anaconda\\lib\\site-packages\\matplotlib\\category.py:181\u001b[0m, in \u001b[0;36mUnitData.__init__\u001b[1;34m(self, data)\u001b[0m\n\u001b[0;32m    179\u001b[0m \u001b[38;5;28mself\u001b[39m\u001b[38;5;241m.\u001b[39m_counter \u001b[38;5;241m=\u001b[39m itertools\u001b[38;5;241m.\u001b[39mcount()\n\u001b[0;32m    180\u001b[0m \u001b[38;5;28;01mif\u001b[39;00m data \u001b[38;5;129;01mis\u001b[39;00m \u001b[38;5;129;01mnot\u001b[39;00m \u001b[38;5;28;01mNone\u001b[39;00m:\n\u001b[1;32m--> 181\u001b[0m     \u001b[38;5;28;43mself\u001b[39;49m\u001b[38;5;241;43m.\u001b[39;49m\u001b[43mupdate\u001b[49m\u001b[43m(\u001b[49m\u001b[43mdata\u001b[49m\u001b[43m)\u001b[49m\n",
      "File \u001b[1;32m~\\anaconda3\\Anaconda\\lib\\site-packages\\matplotlib\\category.py:216\u001b[0m, in \u001b[0;36mUnitData.update\u001b[1;34m(self, data)\u001b[0m\n\u001b[0;32m    213\u001b[0m convertible \u001b[38;5;241m=\u001b[39m \u001b[38;5;28;01mTrue\u001b[39;00m\n\u001b[0;32m    214\u001b[0m \u001b[38;5;28;01mfor\u001b[39;00m val \u001b[38;5;129;01min\u001b[39;00m OrderedDict\u001b[38;5;241m.\u001b[39mfromkeys(data):\n\u001b[0;32m    215\u001b[0m     \u001b[38;5;66;03m# OrderedDict just iterates over unique values in data.\u001b[39;00m\n\u001b[1;32m--> 216\u001b[0m     \u001b[43m_api\u001b[49m\u001b[38;5;241;43m.\u001b[39;49m\u001b[43mcheck_isinstance\u001b[49m\u001b[43m(\u001b[49m\u001b[43m(\u001b[49m\u001b[38;5;28;43mstr\u001b[39;49m\u001b[43m,\u001b[49m\u001b[43m \u001b[49m\u001b[38;5;28;43mbytes\u001b[39;49m\u001b[43m)\u001b[49m\u001b[43m,\u001b[49m\u001b[43m \u001b[49m\u001b[43mvalue\u001b[49m\u001b[38;5;241;43m=\u001b[39;49m\u001b[43mval\u001b[49m\u001b[43m)\u001b[49m\n\u001b[0;32m    217\u001b[0m     \u001b[38;5;28;01mif\u001b[39;00m convertible:\n\u001b[0;32m    218\u001b[0m         \u001b[38;5;66;03m# this will only be called so long as convertible is True.\u001b[39;00m\n\u001b[0;32m    219\u001b[0m         convertible \u001b[38;5;241m=\u001b[39m \u001b[38;5;28mself\u001b[39m\u001b[38;5;241m.\u001b[39m_str_is_convertible(val)\n",
      "File \u001b[1;32m~\\anaconda3\\Anaconda\\lib\\site-packages\\matplotlib\\_api\\__init__.py:93\u001b[0m, in \u001b[0;36mcheck_isinstance\u001b[1;34m(_types, **kwargs)\u001b[0m\n\u001b[0;32m     91\u001b[0m     names\u001b[38;5;241m.\u001b[39mremove(\u001b[38;5;124m\"\u001b[39m\u001b[38;5;124mNone\u001b[39m\u001b[38;5;124m\"\u001b[39m)\n\u001b[0;32m     92\u001b[0m     names\u001b[38;5;241m.\u001b[39mappend(\u001b[38;5;124m\"\u001b[39m\u001b[38;5;124mNone\u001b[39m\u001b[38;5;124m\"\u001b[39m)\n\u001b[1;32m---> 93\u001b[0m \u001b[38;5;28;01mraise\u001b[39;00m \u001b[38;5;167;01mTypeError\u001b[39;00m(\n\u001b[0;32m     94\u001b[0m     \u001b[38;5;124m\"\u001b[39m\u001b[38;5;132;01m{!r}\u001b[39;00m\u001b[38;5;124m must be an instance of \u001b[39m\u001b[38;5;132;01m{}\u001b[39;00m\u001b[38;5;124m, not a \u001b[39m\u001b[38;5;132;01m{}\u001b[39;00m\u001b[38;5;124m\"\u001b[39m\u001b[38;5;241m.\u001b[39mformat(\n\u001b[0;32m     95\u001b[0m         k,\n\u001b[0;32m     96\u001b[0m         \u001b[38;5;124m\"\u001b[39m\u001b[38;5;124m, \u001b[39m\u001b[38;5;124m\"\u001b[39m\u001b[38;5;241m.\u001b[39mjoin(names[:\u001b[38;5;241m-\u001b[39m\u001b[38;5;241m1\u001b[39m]) \u001b[38;5;241m+\u001b[39m \u001b[38;5;124m\"\u001b[39m\u001b[38;5;124m or \u001b[39m\u001b[38;5;124m\"\u001b[39m \u001b[38;5;241m+\u001b[39m names[\u001b[38;5;241m-\u001b[39m\u001b[38;5;241m1\u001b[39m]\n\u001b[0;32m     97\u001b[0m         \u001b[38;5;28;01mif\u001b[39;00m \u001b[38;5;28mlen\u001b[39m(names) \u001b[38;5;241m>\u001b[39m \u001b[38;5;241m1\u001b[39m \u001b[38;5;28;01melse\u001b[39;00m names[\u001b[38;5;241m0\u001b[39m],\n\u001b[0;32m     98\u001b[0m         type_name(\u001b[38;5;28mtype\u001b[39m(v))))\n",
      "\u001b[1;31mTypeError\u001b[0m: 'value' must be an instance of str or bytes, not a pandas._libs.tslibs.timestamps.Timestamp"
     ]
    },
    {
     "data": {
      "image/png": "[encoded data removed]",
      "text/plain": [
       "<Figure size 1200x800 with 1 Axes>"
      ]
     },
     "metadata": {},
     "output_type": "display_data"
    }
   ],
   "source": [
    "fig = plt.figure(figsize=(12,8))\n",
    "id = 14620  # id = 18074  id = 14606\n",
    "days_since_birth = 365\n",
    "sp_trans = df.loc[df['CustomerID'] == id]\n",
    "plot_history_alive(bgf, days_since_birth, sp_trans, 'InvoiceDate')"
   ]
  },
  {
   "cell_type": "markdown",
   "id": "17b4498a",
   "metadata": {},
   "source": [
    "# We are only estimating the customers who had at least one repeat purchase with us"
   ]
  },
  {
   "cell_type": "code",
   "execution_count": 33,
   "id": "80f3a20d",
   "metadata": {},
   "outputs": [],
   "source": [
    "returning_customers_summary = modeldata[modeldata['frequency']>0]\n"
   ]
  },
  {
   "cell_type": "code",
   "execution_count": 34,
   "id": "17d745c8",
   "metadata": {},
   "outputs": [
    {
     "name": "stdout",
     "output_type": "stream",
     "text": [
      "            frequency  recency      T  monetary_value  predicted_purchases\n",
      "CustomerID                                                                \n",
      "12347.0           6.0    365.0  367.0      599.701667             0.015656\n",
      "12348.0           3.0    283.0  358.0      301.480000             0.008956\n",
      "12352.0           6.0    260.0  296.0      368.256667             0.018697\n",
      "12356.0           2.0    303.0  325.0      269.905000             0.007172\n",
      "12358.0           1.0    149.0  150.0      683.200000             0.008340\n",
      "2790\n"
     ]
    },
    {
     "data": {
      "text/plain": [
       "(4339, 5)"
      ]
     },
     "execution_count": 34,
     "metadata": {},
     "output_type": "execute_result"
    }
   ],
   "source": [
    "print(returning_customers_summary.head())\n",
    "\n",
    "print(len(returning_customers_summary))\n",
    "modeldata.shape\n"
   ]
  },
  {
   "cell_type": "code",
   "execution_count": 36,
   "id": "5e589853",
   "metadata": {},
   "outputs": [
    {
     "name": "stdout",
     "output_type": "stream",
     "text": [
      "<lifetimes.GammaGammaFitter: fitted with 2790 subjects, p: 2.10, q: 3.45, v: 485.57>\n",
      "CustomerID\n",
      "12346.0    416.917667\n",
      "12347.0    569.988807\n",
      "12348.0    333.762672\n",
      "12349.0    416.917667\n",
      "12350.0    416.917667\n",
      "12352.0    376.166864\n",
      "12353.0    416.917667\n",
      "12354.0    416.917667\n",
      "12355.0    416.917667\n",
      "12356.0    324.008941\n",
      "dtype: float64\n"
     ]
    }
   ],
   "source": [
    "#gammafitter \n",
    "\n",
    "from lifetimes import GammaGammaFitter\n",
    "\n",
    "ggf = GammaGammaFitter(penalizer_coef = 0)\n",
    "ggf.fit(returning_customers_summary['frequency'],\n",
    "        returning_customers_summary['monetary_value'])\n",
    "\n",
    "print(ggf)\n",
    "\n",
    "print(ggf.conditional_expected_average_profit(modeldata['frequency'], \\\n",
    "    modeldata['monetary_value']).head(10))\n"
   ]
  },
  {
   "cell_type": "markdown",
   "id": "95933792",
   "metadata": {},
   "source": [
    "to use xgb"
   ]
  },
  {
   "cell_type": "code",
   "execution_count": 39,
   "id": "ad88d195",
   "metadata": {},
   "outputs": [],
   "source": [
    "import datetime\n",
    "dfnew.InvoiceDate.max()\n",
    "dfnew.InvoiceDate.min()\n",
    "A = dfnew[dfnew.InvoiceDate>datetime.date(2011, 11, 9)]\n",
    "A.shape\n",
    "Z = pd.DataFrame(A.CustomerID.value_counts()).reset_index()\n",
    "list(Z.columns)\n",
    "Z.columns = ['CustomerID','buytime']\n",
    "Z = Z.sort_values(['buytime'], ascending = False)\n",
    "Z.head(20)\n",
    "\n",
    "len(Z)\n",
    "len(set(dfnew.CustomerID))\n",
    "\n",
    "allcus = pd.DataFrame(set(dfnew.CustomerID), columns = ['CustomerID'])\n",
    "\n",
    "allcus = pd.merge(allcus, Z, on=['CustomerID'], how='left').sort_values(['buytime'], ascending = False)\n",
    "allcus = allcus.fillna(0)\n",
    "\n",
    "allcus['buytime'] = allcus['buytime']/allcus['buytime'].max()\n",
    "\n",
    "allcus['v1'] = allcus['buytime']*0.78 + np.random.normal(0, 0.11, len(allcus))\n",
    "\n",
    "allcus['v2'] = allcus['buytime']*allcus['buytime']*(-0.195) + 0.11*allcus['buytime']\n",
    "\n",
    "allcus.corr()\n",
    "\n",
    "\n",
    "allcus['v1'] = (allcus['v1'] - allcus['v1'].min())/(allcus['v1'].max() - allcus['v1'].min())\n",
    "\n",
    "allcus['v2'] = (allcus['v2'] - allcus['v2'].min())/(allcus['v2'].max() - allcus['v2'].min())\n",
    "\n",
    "allcus['score'] = round(allcus['v2']*100000)\n",
    "allcus.score.max()\n",
    "\n",
    "\n",
    "allcus['discount'] = round(allcus['v1']*12.6)\n",
    "\n",
    "allcus['r'] = np.random.randint(100,size=len(allcus))\n",
    "\n",
    "def def2(D):\n",
    "    if D['r']<13:\n",
    "        x = 0\n",
    "    else:\n",
    "        x = D['discount']\n",
    "    \n",
    "    return x\n",
    "\n",
    "allcus['discount'] = allcus.apply(def2, axis = 1)\n",
    "\n",
    "v = ['CustomerID', 'score', 'discount']\n",
    "allcus = allcus[v]\n",
    "\n",
    "allcus = allcus.sort_values(['score'])\n",
    "\n",
    "allcus.score.std()\n",
    "allcus.corr()\n",
    "\n",
    "allcus.to_csv('oth.csv', index = False)"
   ]
  },
  {
   "cell_type": "code",
   "execution_count": 40,
   "id": "2db2ed2a",
   "metadata": {},
   "outputs": [],
   "source": [
    "list(dfnew.columns)\n",
    "dfnew_train = dfnew[dfnew.InvoiceDate < datetime.date(2011, 11, 9)]\n",
    "dfnew_test = dfnew[dfnew.InvoiceDate >= datetime.date(2011, 11, 9)]\n",
    "\n",
    "maxdate = dfnew_train.InvoiceDate.max()\n",
    "mindate = dfnew_train.InvoiceDate.min()"
   ]
  },
  {
   "cell_type": "code",
   "execution_count": 41,
   "id": "e48fa105",
   "metadata": {},
   "outputs": [],
   "source": [
    "dfnew_train['duration'] =  (maxdate - dfnew_train.InvoiceDate)/np.timedelta64(1, 'D')"
   ]
  },
  {
   "cell_type": "code",
   "execution_count": 42,
   "id": "23299611",
   "metadata": {},
   "outputs": [],
   "source": [
    "# get time duration between the last transaction to now\n",
    "dfsum1 = dfnew_train.groupby(['CustomerID'])['duration'].min().reset_index()\n",
    "dfsum1.head()\n",
    "\n",
    "dfsum1.rename(columns = {'duration':'latetime'}, inplace = True)\n"
   ]
  },
  {
   "cell_type": "code",
   "execution_count": 43,
   "id": "6bfe9a31",
   "metadata": {},
   "outputs": [],
   "source": [
    "# get time duration between the first transaction to now\n",
    "dfsum2 = dfnew_train.groupby(['CustomerID'])['duration'].max().reset_index()\n",
    "dfsum2.rename(columns = {'duration':'earlytime'}, inplace = True)\n"
   ]
  },
  {
   "cell_type": "code",
   "execution_count": 44,
   "id": "79323c49",
   "metadata": {},
   "outputs": [],
   "source": [
    "# get transaction frequency (whole history)\n",
    "dfnew_train['freq'] =1 \n",
    "dfsum3 = dfnew_train.groupby(['CustomerID'])['freq'].sum().reset_index()\n"
   ]
  },
  {
   "cell_type": "code",
   "execution_count": 45,
   "id": "4294b441",
   "metadata": {},
   "outputs": [],
   "source": [
    "# get transaction frequency (recent 3 months history)\n",
    "dfnew_train['freq_3m'] =1 \n",
    "dfsum4 = dfnew_train[dfnew_train.duration<91].groupby(['CustomerID'])['freq_3m'].sum().reset_index()"
   ]
  },
  {
   "cell_type": "code",
   "execution_count": 46,
   "id": "f23a448f",
   "metadata": {},
   "outputs": [],
   "source": [
    "dfsum = pd.merge(dfsum1, dfsum2, on=['CustomerID'], how='outer')\n",
    "dfsum = pd.merge(dfsum, dfsum3, on=['CustomerID'], how='outer')\n",
    "dfsum = pd.merge(dfsum, dfsum4, on=['CustomerID'], how='outer')"
   ]
  },
  {
   "cell_type": "code",
   "execution_count": 47,
   "id": "7efbf8ff",
   "metadata": {},
   "outputs": [],
   "source": [
    "#get other data source\n",
    "other_data = pd.read_csv('oth.csv')\n",
    "list(other_data.columns)\n",
    "dfsum = pd.merge(dfsum, other_data, on=['CustomerID'], how='left')\n"
   ]
  },
  {
   "cell_type": "code",
   "execution_count": 48,
   "id": "43c473a0",
   "metadata": {},
   "outputs": [],
   "source": [
    "# get target \n",
    "dfnew_test['target'] = 1\n",
    "dfsum_target = dfnew_test.groupby(['CustomerID'])['target'].sum().reset_index()\n"
   ]
  },
  {
   "cell_type": "code",
   "execution_count": 49,
   "id": "1d4ba572",
   "metadata": {},
   "outputs": [],
   "source": [
    "dfsum = pd.merge(dfsum, dfsum_target, on=['CustomerID'], how='left')\n",
    "dfsum  = dfsum.fillna(0).sort_values(['target'], ascending = False)\n"
   ]
  },
  {
   "cell_type": "code",
   "execution_count": 50,
   "id": "d84ffda7",
   "metadata": {},
   "outputs": [
    {
     "data": {
      "text/html": [
       "<div>\n",
       "<style scoped>\n",
       "    .dataframe tbody tr th:only-of-type {\n",
       "        vertical-align: middle;\n",
       "    }\n",
       "\n",
       "    .dataframe tbody tr th {\n",
       "        vertical-align: top;\n",
       "    }\n",
       "\n",
       "    .dataframe thead th {\n",
       "        text-align: right;\n",
       "    }\n",
       "</style>\n",
       "<table border=\"1\" class=\"dataframe\">\n",
       "  <thead>\n",
       "    <tr style=\"text-align: right;\">\n",
       "      <th></th>\n",
       "      <th>CustomerID</th>\n",
       "      <th>latetime</th>\n",
       "      <th>earlytime</th>\n",
       "      <th>freq</th>\n",
       "      <th>freq_3m</th>\n",
       "      <th>score</th>\n",
       "      <th>discount</th>\n",
       "      <th>target</th>\n",
       "    </tr>\n",
       "  </thead>\n",
       "  <tbody>\n",
       "    <tr>\n",
       "      <th>1216</th>\n",
       "      <td>14096.0</td>\n",
       "      <td>8.0</td>\n",
       "      <td>70.0</td>\n",
       "      <td>2688</td>\n",
       "      <td>2688.0</td>\n",
       "      <td>0.0</td>\n",
       "      <td>13.0</td>\n",
       "      <td>2423.0</td>\n",
       "    </tr>\n",
       "    <tr>\n",
       "      <th>300</th>\n",
       "      <td>12748.0</td>\n",
       "      <td>0.0</td>\n",
       "      <td>342.0</td>\n",
       "      <td>2945</td>\n",
       "      <td>1070.0</td>\n",
       "      <td>70118.0</td>\n",
       "      <td>9.0</td>\n",
       "      <td>1651.0</td>\n",
       "    </tr>\n",
       "    <tr>\n",
       "      <th>3766</th>\n",
       "      <td>17841.0</td>\n",
       "      <td>0.0</td>\n",
       "      <td>342.0</td>\n",
       "      <td>6309</td>\n",
       "      <td>2548.0</td>\n",
       "      <td>81346.0</td>\n",
       "      <td>8.0</td>\n",
       "      <td>1538.0</td>\n",
       "    </tr>\n",
       "    <tr>\n",
       "      <th>1770</th>\n",
       "      <td>14911.0</td>\n",
       "      <td>1.0</td>\n",
       "      <td>342.0</td>\n",
       "      <td>4566</td>\n",
       "      <td>2066.0</td>\n",
       "      <td>95982.0</td>\n",
       "      <td>9.0</td>\n",
       "      <td>1111.0</td>\n",
       "    </tr>\n",
       "    <tr>\n",
       "      <th>2896</th>\n",
       "      <td>16549.0</td>\n",
       "      <td>0.0</td>\n",
       "      <td>303.0</td>\n",
       "      <td>511</td>\n",
       "      <td>368.0</td>\n",
       "      <td>100000.0</td>\n",
       "      <td>3.0</td>\n",
       "      <td>470.0</td>\n",
       "    </tr>\n",
       "    <tr>\n",
       "      <th>1572</th>\n",
       "      <td>14606.0</td>\n",
       "      <td>1.0</td>\n",
       "      <td>342.0</td>\n",
       "      <td>2364</td>\n",
       "      <td>531.0</td>\n",
       "      <td>97479.0</td>\n",
       "      <td>6.0</td>\n",
       "      <td>336.0</td>\n",
       "    </tr>\n",
       "    <tr>\n",
       "      <th>1463</th>\n",
       "      <td>14456.0</td>\n",
       "      <td>9.0</td>\n",
       "      <td>111.0</td>\n",
       "      <td>645</td>\n",
       "      <td>404.0</td>\n",
       "      <td>97218.0</td>\n",
       "      <td>5.0</td>\n",
       "      <td>325.0</td>\n",
       "    </tr>\n",
       "    <tr>\n",
       "      <th>2772</th>\n",
       "      <td>16360.0</td>\n",
       "      <td>7.0</td>\n",
       "      <td>57.0</td>\n",
       "      <td>372</td>\n",
       "      <td>372.0</td>\n",
       "      <td>96335.0</td>\n",
       "      <td>6.0</td>\n",
       "      <td>290.0</td>\n",
       "    </tr>\n",
       "    <tr>\n",
       "      <th>2052</th>\n",
       "      <td>15311.0</td>\n",
       "      <td>4.0</td>\n",
       "      <td>342.0</td>\n",
       "      <td>2104</td>\n",
       "      <td>535.0</td>\n",
       "      <td>95428.0</td>\n",
       "      <td>5.0</td>\n",
       "      <td>275.0</td>\n",
       "    </tr>\n",
       "    <tr>\n",
       "      <th>4065</th>\n",
       "      <td>18283.0</td>\n",
       "      <td>12.0</td>\n",
       "      <td>306.0</td>\n",
       "      <td>487</td>\n",
       "      <td>87.0</td>\n",
       "      <td>95766.0</td>\n",
       "      <td>5.0</td>\n",
       "      <td>269.0</td>\n",
       "    </tr>\n",
       "  </tbody>\n",
       "</table>\n",
       "</div>"
      ],
      "text/plain": [
       "      CustomerID  latetime  earlytime  freq  freq_3m     score  discount  target\n",
       "1216     14096.0       8.0       70.0  2688   2688.0       0.0      13.0  2423.0\n",
       "300      12748.0       0.0      342.0  2945   1070.0   70118.0       9.0  1651.0\n",
       "3766     17841.0       0.0      342.0  6309   2548.0   81346.0       8.0  1538.0\n",
       "1770     14911.0       1.0      342.0  4566   2066.0   95982.0       9.0  1111.0\n",
       "2896     16549.0       0.0      303.0   511    368.0  100000.0       3.0   470.0\n",
       "1572     14606.0       1.0      342.0  2364    531.0   97479.0       6.0   336.0\n",
       "1463     14456.0       9.0      111.0   645    404.0   97218.0       5.0   325.0\n",
       "2772     16360.0       7.0       57.0   372    372.0   96335.0       6.0   290.0\n",
       "2052     15311.0       4.0      342.0  2104    535.0   95428.0       5.0   275.0\n",
       "4065     18283.0      12.0      306.0   487     87.0   95766.0       5.0   269.0"
      ]
     },
     "execution_count": 50,
     "metadata": {},
     "output_type": "execute_result"
    }
   ],
   "source": [
    "# check all features in the modeling data\n",
    "list(dfsum.columns)\n",
    "dfsum.head(10)"
   ]
  },
  {
   "cell_type": "markdown",
   "id": "6b97081e",
   "metadata": {},
   "source": [
    "XGB Model"
   ]
  },
  {
   "cell_type": "code",
   "execution_count": 51,
   "id": "5b514f59",
   "metadata": {},
   "outputs": [],
   "source": [
    "import xgboost\n",
    "from sklearn.model_selection import train_test_split"
   ]
  },
  {
   "cell_type": "code",
   "execution_count": 52,
   "id": "17997586",
   "metadata": {},
   "outputs": [],
   "source": [
    "xgb_model = xgboost.XGBRegressor(n_estimators=2200, objective='reg:linear', max_depth = 5)"
   ]
  },
  {
   "cell_type": "code",
   "execution_count": 53,
   "id": "03956bea",
   "metadata": {},
   "outputs": [],
   "source": [
    "predictors = ['latetime','earlytime', 'freq','freq_3m', 'score','discount']\n",
    "X = dfsum[predictors]\n",
    "y = dfsum.target"
   ]
  },
  {
   "cell_type": "code",
   "execution_count": 54,
   "id": "dd98b876",
   "metadata": {},
   "outputs": [],
   "source": [
    "x_trains, x_valids, y_train, y_valid = train_test_split(X, y, test_size=0.3, random_state=12)"
   ]
  },
  {
   "cell_type": "code",
   "execution_count": 55,
   "id": "83e33a2c",
   "metadata": {},
   "outputs": [
    {
     "name": "stderr",
     "output_type": "stream",
     "text": [
      "C:\\Users\\Harip\\anaconda3\\Anaconda\\lib\\site-packages\\xgboost\\core.py:160: UserWarning: [15:57:31] WARNING: C:\\buildkite-agent\\builds\\buildkite-windows-cpu-autoscaling-group-i-0750514818a16474a-1\\xgboost\\xgboost-ci-windows\\src\\objective\\regression_obj.cu:209: reg:linear is now deprecated in favor of reg:squarederror.\n",
      "  warnings.warn(smsg, UserWarning)\n"
     ]
    },
    {
     "data": {
      "text/html": [
       "<style>#sk-container-id-1 {color: black;}#sk-container-id-1 pre{padding: 0;}#sk-container-id-1 div.sk-toggleable {background-color: white;}#sk-container-id-1 label.sk-toggleable__label {cursor: pointer;display: block;width: 100%;margin-bottom: 0;padding: 0.3em;box-sizing: border-box;text-align: center;}#sk-container-id-1 label.sk-toggleable__label-arrow:before {content: \"▸\";float: left;margin-right: 0.25em;color: #696969;}#sk-container-id-1 label.sk-toggleable__label-arrow:hover:before {color: black;}#sk-container-id-1 div.sk-estimator:hover label.sk-toggleable__label-arrow:before {color: black;}#sk-container-id-1 div.sk-toggleable__content {max-height: 0;max-width: 0;overflow: hidden;text-align: left;background-color: #f0f8ff;}#sk-container-id-1 div.sk-toggleable__content pre {margin: 0.2em;color: black;border-radius: 0.25em;background-color: #f0f8ff;}#sk-container-id-1 input.sk-toggleable__control:checked~div.sk-toggleable__content {max-height: 200px;max-width: 100%;overflow: auto;}#sk-container-id-1 input.sk-toggleable__control:checked~label.sk-toggleable__label-arrow:before {content: \"▾\";}#sk-container-id-1 div.sk-estimator input.sk-toggleable__control:checked~label.sk-toggleable__label {background-color: #d4ebff;}#sk-container-id-1 div.sk-label input.sk-toggleable__control:checked~label.sk-toggleable__label {background-color: #d4ebff;}#sk-container-id-1 input.sk-hidden--visually {border: 0;clip: rect(1px 1px 1px 1px);clip: rect(1px, 1px, 1px, 1px);height: 1px;margin: -1px;overflow: hidden;padding: 0;position: absolute;width: 1px;}#sk-container-id-1 div.sk-estimator {font-family: monospace;background-color: #f0f8ff;border: 1px dotted black;border-radius: 0.25em;box-sizing: border-box;margin-bottom: 0.5em;}#sk-container-id-1 div.sk-estimator:hover {background-color: #d4ebff;}#sk-container-id-1 div.sk-parallel-item::after {content: \"\";width: 100%;border-bottom: 1px solid gray;flex-grow: 1;}#sk-container-id-1 div.sk-label:hover label.sk-toggleable__label {background-color: #d4ebff;}#sk-container-id-1 div.sk-serial::before {content: \"\";position: absolute;border-left: 1px solid gray;box-sizing: border-box;top: 0;bottom: 0;left: 50%;z-index: 0;}#sk-container-id-1 div.sk-serial {display: flex;flex-direction: column;align-items: center;background-color: white;padding-right: 0.2em;padding-left: 0.2em;position: relative;}#sk-container-id-1 div.sk-item {position: relative;z-index: 1;}#sk-container-id-1 div.sk-parallel {display: flex;align-items: stretch;justify-content: center;background-color: white;position: relative;}#sk-container-id-1 div.sk-item::before, #sk-container-id-1 div.sk-parallel-item::before {content: \"\";position: absolute;border-left: 1px solid gray;box-sizing: border-box;top: 0;bottom: 0;left: 50%;z-index: -1;}#sk-container-id-1 div.sk-parallel-item {display: flex;flex-direction: column;z-index: 1;position: relative;background-color: white;}#sk-container-id-1 div.sk-parallel-item:first-child::after {align-self: flex-end;width: 50%;}#sk-container-id-1 div.sk-parallel-item:last-child::after {align-self: flex-start;width: 50%;}#sk-container-id-1 div.sk-parallel-item:only-child::after {width: 0;}#sk-container-id-1 div.sk-dashed-wrapped {border: 1px dashed gray;margin: 0 0.4em 0.5em 0.4em;box-sizing: border-box;padding-bottom: 0.4em;background-color: white;}#sk-container-id-1 div.sk-label label {font-family: monospace;font-weight: bold;display: inline-block;line-height: 1.2em;}#sk-container-id-1 div.sk-label-container {text-align: center;}#sk-container-id-1 div.sk-container {/* jupyter's `normalize.less` sets `[hidden] { display: none; }` but bootstrap.min.css set `[hidden] { display: none !important; }` so we also need the `!important` here to be able to override the default hidden behavior on the sphinx rendered scikit-learn.org. See: https://github.com/scikit-learn/scikit-learn/issues/21755 */display: inline-block !important;position: relative;}#sk-container-id-1 div.sk-text-repr-fallback {display: none;}</style><div id=\"sk-container-id-1\" class=\"sk-top-container\"><div class=\"sk-text-repr-fallback\"><pre>XGBRegressor(base_score=None, booster=None, callbacks=None,\n",
       "             colsample_bylevel=None, colsample_bynode=None,\n",
       "             colsample_bytree=None, device=None, early_stopping_rounds=None,\n",
       "             enable_categorical=False, eval_metric=None, feature_types=None,\n",
       "             gamma=None, grow_policy=None, importance_type=None,\n",
       "             interaction_constraints=None, learning_rate=None, max_bin=None,\n",
       "             max_cat_threshold=None, max_cat_to_onehot=None,\n",
       "             max_delta_step=None, max_depth=5, max_leaves=None,\n",
       "             min_child_weight=None, missing=nan, monotone_constraints=None,\n",
       "             multi_strategy=None, n_estimators=2200, n_jobs=None,\n",
       "             num_parallel_tree=None, objective=&#x27;reg:linear&#x27;, ...)</pre><b>In a Jupyter environment, please rerun this cell to show the HTML representation or trust the notebook. <br />On GitHub, the HTML representation is unable to render, please try loading this page with nbviewer.org.</b></div><div class=\"sk-container\" hidden><div class=\"sk-item\"><div class=\"sk-estimator sk-toggleable\"><input class=\"sk-toggleable__control sk-hidden--visually\" id=\"sk-estimator-id-1\" type=\"checkbox\" checked><label for=\"sk-estimator-id-1\" class=\"sk-toggleable__label sk-toggleable__label-arrow\">XGBRegressor</label><div class=\"sk-toggleable__content\"><pre>XGBRegressor(base_score=None, booster=None, callbacks=None,\n",
       "             colsample_bylevel=None, colsample_bynode=None,\n",
       "             colsample_bytree=None, device=None, early_stopping_rounds=None,\n",
       "             enable_categorical=False, eval_metric=None, feature_types=None,\n",
       "             gamma=None, grow_policy=None, importance_type=None,\n",
       "             interaction_constraints=None, learning_rate=None, max_bin=None,\n",
       "             max_cat_threshold=None, max_cat_to_onehot=None,\n",
       "             max_delta_step=None, max_depth=5, max_leaves=None,\n",
       "             min_child_weight=None, missing=nan, monotone_constraints=None,\n",
       "             multi_strategy=None, n_estimators=2200, n_jobs=None,\n",
       "             num_parallel_tree=None, objective=&#x27;reg:linear&#x27;, ...)</pre></div></div></div></div></div>"
      ],
      "text/plain": [
       "XGBRegressor(base_score=None, booster=None, callbacks=None,\n",
       "             colsample_bylevel=None, colsample_bynode=None,\n",
       "             colsample_bytree=None, device=None, early_stopping_rounds=None,\n",
       "             enable_categorical=False, eval_metric=None, feature_types=None,\n",
       "             gamma=None, grow_policy=None, importance_type=None,\n",
       "             interaction_constraints=None, learning_rate=None, max_bin=None,\n",
       "             max_cat_threshold=None, max_cat_to_onehot=None,\n",
       "             max_delta_step=None, max_depth=5, max_leaves=None,\n",
       "             min_child_weight=None, missing=nan, monotone_constraints=None,\n",
       "             multi_strategy=None, n_estimators=2200, n_jobs=None,\n",
       "             num_parallel_tree=None, objective='reg:linear', ...)"
      ]
     },
     "execution_count": 55,
     "metadata": {},
     "output_type": "execute_result"
    }
   ],
   "source": [
    "xgb_model.fit(x_trains, y_train)"
   ]
  },
  {
   "cell_type": "code",
   "execution_count": 56,
   "id": "0fee9aec",
   "metadata": {},
   "outputs": [],
   "source": [
    "preds = xgb_model.predict(x_valids)\n",
    "errs= np.abs(preds - y_valid)**2\n",
    "mse = np.sqrt(errs.mean())"
   ]
  },
  {
   "cell_type": "code",
   "execution_count": 57,
   "id": "ff4d48a4",
   "metadata": {},
   "outputs": [],
   "source": [
    "from xgboost import plot_importance\n",
    "from matplotlib import pyplot"
   ]
  },
  {
   "cell_type": "code",
   "execution_count": 58,
   "id": "aa7aadb0",
   "metadata": {},
   "outputs": [
    {
     "data": {
      "text/plain": [
       "{'latetime': 7407.0,\n",
       " 'earlytime': 6201.0,\n",
       " 'freq': 6838.0,\n",
       " 'freq_3m': 3311.0,\n",
       " 'score': 3277.0,\n",
       " 'discount': 2306.0}"
      ]
     },
     "execution_count": 58,
     "metadata": {},
     "output_type": "execute_result"
    }
   ],
   "source": [
    "# for XGBRegressor, we use the following ways\n",
    "xgb_model.get_booster().get_score(importance_type=\"gain\")\n",
    "xgb_model.get_booster().get_score(importance_type=\"weight\")\n"
   ]
  },
  {
   "cell_type": "markdown",
   "id": "2de75c40",
   "metadata": {},
   "source": [
    "'''\n",
    "importance_type:\n",
    "    \n",
    "‘weight’ - the number of times a feature is used to split the data across all trees.\n",
    "‘gain’ - the average gain across all splits the feature is used in.\n",
    "‘cover’ - the average coverage across all splits the feature is used in. (yes/no proportion)\n",
    "‘total_gain’ - the total gain across all splits the feature is used in.\n",
    "‘total_cover’ - the total coverage across all splits the feature is used in.\n",
    "\n",
    "'''"
   ]
  },
  {
   "cell_type": "code",
   "execution_count": 59,
   "id": "3f2ce315",
   "metadata": {},
   "outputs": [
    {
     "data": {
      "image/png": "[encoded data removed]",
      "text/plain": [
       "<Figure size 640x480 with 1 Axes>"
      ]
     },
     "metadata": {},
     "output_type": "display_data"
    }
   ],
   "source": [
    "# plot feature importance\n",
    "plot_importance(xgb_model, importance_type='gain')\n",
    "pyplot.show()"
   ]
  },
  {
   "cell_type": "code",
   "execution_count": 60,
   "id": "160ecda7",
   "metadata": {},
   "outputs": [
    {
     "data": {
      "image/png": "[encoded data removed]",
      "text/plain": [
       "<Figure size 640x480 with 1 Axes>"
      ]
     },
     "metadata": {},
     "output_type": "display_data"
    }
   ],
   "source": [
    "plot_importance(xgb_model, importance_type='weight') # default option is 'weight'\n",
    "pyplot.show()"
   ]
  },
  {
   "cell_type": "code",
   "execution_count": 61,
   "id": "4ff54928",
   "metadata": {},
   "outputs": [
    {
     "data": {
      "image/png": "[encoded data removed]",
      "text/plain": [
       "<Figure size 640x480 with 1 Axes>"
      ]
     },
     "metadata": {},
     "output_type": "display_data"
    }
   ],
   "source": [
    "# we can also use feature_importances_, but it is the same as importance_type='gain'\n",
    "imp = xgb_model.feature_importances_\n",
    "pyplot.bar(range(len(xgb_model.feature_importances_)), xgb_model.feature_importances_)\n",
    "pyplot.show()"
   ]
  },
  {
   "cell_type": "code",
   "execution_count": 62,
   "id": "6da5d31b",
   "metadata": {},
   "outputs": [
    {
     "name": "stdout",
     "output_type": "stream",
     "text": [
      "['freq_3m', 0.8006192]\n",
      "['score', 0.19751495]\n",
      "['freq', 0.00071222417]\n",
      "['latetime', 0.000546492]\n",
      "['earlytime', 0.00033524755]\n",
      "['discount', 0.0002718336]\n"
     ]
    }
   ],
   "source": [
    "#  we can list importance by dict, by 'gain'\n",
    "sorted_idx = np.argsort(xgb_model.feature_importances_)[::-1]\n",
    "for index in sorted_idx:\n",
    "    print([x_trains.columns[index], xgb_model.feature_importances_[index]]) \n"
   ]
  },
  {
   "cell_type": "code",
   "execution_count": 63,
   "id": "7f888578",
   "metadata": {},
   "outputs": [],
   "source": [
    "important_var = [(x_trains.columns[index], xgb_model.feature_importances_[index]) for index in sorted_idx]"
   ]
  },
  {
   "cell_type": "code",
   "execution_count": 64,
   "id": "e387d555",
   "metadata": {},
   "outputs": [
    {
     "data": {
      "text/html": [
       "<div>\n",
       "<style scoped>\n",
       "    .dataframe tbody tr th:only-of-type {\n",
       "        vertical-align: middle;\n",
       "    }\n",
       "\n",
       "    .dataframe tbody tr th {\n",
       "        vertical-align: top;\n",
       "    }\n",
       "\n",
       "    .dataframe thead th {\n",
       "        text-align: right;\n",
       "    }\n",
       "</style>\n",
       "<table border=\"1\" class=\"dataframe\">\n",
       "  <thead>\n",
       "    <tr style=\"text-align: right;\">\n",
       "      <th></th>\n",
       "      <th>CustomerID</th>\n",
       "      <th>latetime</th>\n",
       "      <th>earlytime</th>\n",
       "      <th>freq</th>\n",
       "      <th>freq_3m</th>\n",
       "      <th>score</th>\n",
       "      <th>discount</th>\n",
       "      <th>target</th>\n",
       "    </tr>\n",
       "  </thead>\n",
       "  <tbody>\n",
       "    <tr>\n",
       "      <th>CustomerID</th>\n",
       "      <td>1.000000</td>\n",
       "      <td>0.010700</td>\n",
       "      <td>0.008295</td>\n",
       "      <td>-0.000879</td>\n",
       "      <td>0.000297</td>\n",
       "      <td>0.017148</td>\n",
       "      <td>0.054338</td>\n",
       "      <td>-0.001660</td>\n",
       "    </tr>\n",
       "    <tr>\n",
       "      <th>latetime</th>\n",
       "      <td>0.010700</td>\n",
       "      <td>1.000000</td>\n",
       "      <td>0.320846</td>\n",
       "      <td>-0.213880</td>\n",
       "      <td>-0.274409</td>\n",
       "      <td>-0.106303</td>\n",
       "      <td>-0.035017</td>\n",
       "      <td>-0.109399</td>\n",
       "    </tr>\n",
       "    <tr>\n",
       "      <th>earlytime</th>\n",
       "      <td>0.008295</td>\n",
       "      <td>0.320846</td>\n",
       "      <td>1.000000</td>\n",
       "      <td>0.214979</td>\n",
       "      <td>0.024627</td>\n",
       "      <td>0.097698</td>\n",
       "      <td>0.032404</td>\n",
       "      <td>0.071634</td>\n",
       "    </tr>\n",
       "    <tr>\n",
       "      <th>freq</th>\n",
       "      <td>-0.000879</td>\n",
       "      <td>-0.213880</td>\n",
       "      <td>0.214979</td>\n",
       "      <td>1.000000</td>\n",
       "      <td>0.878293</td>\n",
       "      <td>0.065750</td>\n",
       "      <td>0.103934</td>\n",
       "      <td>0.731558</td>\n",
       "    </tr>\n",
       "    <tr>\n",
       "      <th>freq_3m</th>\n",
       "      <td>0.000297</td>\n",
       "      <td>-0.274409</td>\n",
       "      <td>0.024627</td>\n",
       "      <td>0.878293</td>\n",
       "      <td>1.000000</td>\n",
       "      <td>-0.180902</td>\n",
       "      <td>0.112904</td>\n",
       "      <td>0.825482</td>\n",
       "    </tr>\n",
       "    <tr>\n",
       "      <th>score</th>\n",
       "      <td>0.017148</td>\n",
       "      <td>-0.106303</td>\n",
       "      <td>0.097698</td>\n",
       "      <td>0.065750</td>\n",
       "      <td>-0.180902</td>\n",
       "      <td>1.000000</td>\n",
       "      <td>-0.023162</td>\n",
       "      <td>-0.194449</td>\n",
       "    </tr>\n",
       "    <tr>\n",
       "      <th>discount</th>\n",
       "      <td>0.054338</td>\n",
       "      <td>-0.035017</td>\n",
       "      <td>0.032404</td>\n",
       "      <td>0.103934</td>\n",
       "      <td>0.112904</td>\n",
       "      <td>-0.023162</td>\n",
       "      <td>1.000000</td>\n",
       "      <td>0.117299</td>\n",
       "    </tr>\n",
       "    <tr>\n",
       "      <th>target</th>\n",
       "      <td>-0.001660</td>\n",
       "      <td>-0.109399</td>\n",
       "      <td>0.071634</td>\n",
       "      <td>0.731558</td>\n",
       "      <td>0.825482</td>\n",
       "      <td>-0.194449</td>\n",
       "      <td>0.117299</td>\n",
       "      <td>1.000000</td>\n",
       "    </tr>\n",
       "  </tbody>\n",
       "</table>\n",
       "</div>"
      ],
      "text/plain": [
       "            CustomerID  latetime  earlytime      freq   freq_3m     score  discount    target\n",
       "CustomerID    1.000000  0.010700   0.008295 -0.000879  0.000297  0.017148  0.054338 -0.001660\n",
       "latetime      0.010700  1.000000   0.320846 -0.213880 -0.274409 -0.106303 -0.035017 -0.109399\n",
       "earlytime     0.008295  0.320846   1.000000  0.214979  0.024627  0.097698  0.032404  0.071634\n",
       "freq         -0.000879 -0.213880   0.214979  1.000000  0.878293  0.065750  0.103934  0.731558\n",
       "freq_3m       0.000297 -0.274409   0.024627  0.878293  1.000000 -0.180902  0.112904  0.825482\n",
       "score         0.017148 -0.106303   0.097698  0.065750 -0.180902  1.000000 -0.023162 -0.194449\n",
       "discount      0.054338 -0.035017   0.032404  0.103934  0.112904 -0.023162  1.000000  0.117299\n",
       "target       -0.001660 -0.109399   0.071634  0.731558  0.825482 -0.194449  0.117299  1.000000"
      ]
     },
     "execution_count": 64,
     "metadata": {},
     "output_type": "execute_result"
    }
   ],
   "source": [
    "# check correlation of features with target\n",
    "dfsum.corr()"
   ]
  },
  {
   "cell_type": "code",
   "execution_count": 65,
   "id": "8327427e",
   "metadata": {},
   "outputs": [],
   "source": [
    "##light gbm model"
   ]
  },
  {
   "cell_type": "code",
   "execution_count": 66,
   "id": "0a67e683",
   "metadata": {},
   "outputs": [],
   "source": [
    "import lightgbm as lgb  "
   ]
  },
  {
   "cell_type": "code",
   "execution_count": 67,
   "id": "4cf51fa7",
   "metadata": {},
   "outputs": [],
   "source": [
    "lgbparams = {\n",
    "    'boosting_type': 'gbdt',\n",
    "    'objective': 'regression',\n",
    "    'metric': 'mse',    \n",
    "    'max_depth': 6, \n",
    "    'learning_rate': 0.02\n",
    "}\n"
   ]
  },
  {
   "cell_type": "code",
   "execution_count": 68,
   "id": "dd3cac33",
   "metadata": {},
   "outputs": [],
   "source": [
    "predictors = ['latetime','earlytime', 'freq','freq_3m', 'score','discount']"
   ]
  },
  {
   "cell_type": "code",
   "execution_count": 69,
   "id": "29862d57",
   "metadata": {},
   "outputs": [],
   "source": [
    "X1, X2, y1, y2 = train_test_split(X, y, test_size=0.3, random_state=12)"
   ]
  },
  {
   "cell_type": "code",
   "execution_count": 70,
   "id": "dd4e3939",
   "metadata": {},
   "outputs": [],
   "source": [
    "x_trains, x_valids, y_train, y_valid = train_test_split(X1, y1, test_size=0.1, random_state=12)\n",
    "x_train = x_trains[predictors]\n",
    "x_valid = x_valids[predictors]\n"
   ]
  },
  {
   "cell_type": "code",
   "execution_count": 71,
   "id": "16173669",
   "metadata": {},
   "outputs": [],
   "source": [
    "d_train = lgb.Dataset(x_train, label=y_train)\n",
    "d_valid = lgb.Dataset(x_valid, label=y_valid)"
   ]
  },
  {
   "cell_type": "code",
   "execution_count": 72,
   "id": "be28cce4",
   "metadata": {},
   "outputs": [],
   "source": [
    "# for monitoring the performance\n",
    "watchlist = [d_valid]\n",
    "n_estimators = 2200 # this para will be set in train()\n"
   ]
  },
  {
   "cell_type": "code",
   "execution_count": 81,
   "id": "d48ca5ac",
   "metadata": {},
   "outputs": [
    {
     "ename": "TypeError",
     "evalue": "train() got an unexpected keyword argument 'verbose'",
     "output_type": "error",
     "traceback": [
      "\u001b[1;31m---------------------------------------------------------------------------\u001b[0m",
      "\u001b[1;31mTypeError\u001b[0m                                 Traceback (most recent call last)",
      "Cell \u001b[1;32mIn[81], line 1\u001b[0m\n\u001b[1;32m----> 1\u001b[0m model \u001b[38;5;241m=\u001b[39m \u001b[43mlgb\u001b[49m\u001b[38;5;241;43m.\u001b[39;49m\u001b[43mtrain\u001b[49m\u001b[43m(\u001b[49m\u001b[43mlgbparams\u001b[49m\u001b[43m,\u001b[49m\u001b[43m \u001b[49m\u001b[43md_train\u001b[49m\u001b[43m,\u001b[49m\u001b[43m \u001b[49m\u001b[43mn_estimators\u001b[49m\u001b[43m,\u001b[49m\u001b[43m \u001b[49m\u001b[43mwatchlist\u001b[49m\u001b[43m,\u001b[49m\u001b[43m \u001b[49m\u001b[43mverbose\u001b[49m\u001b[38;5;241;43m=\u001b[39;49m\u001b[38;5;241;43m1\u001b[39;49m\u001b[43m)\u001b[49m\n",
      "\u001b[1;31mTypeError\u001b[0m: train() got an unexpected keyword argument 'verbose'"
     ]
    }
   ],
   "source": [
    "model = lgb.train(lgbparams, d_train, n_estimators, watchlist, verbose=1)\n"
   ]
  },
  {
   "cell_type": "code",
   "execution_count": 76,
   "id": "e30809a9",
   "metadata": {},
   "outputs": [],
   "source": [
    "\n",
    "preds = model.predict(X2)\n",
    "errs= np.abs(preds - y2)**2\n",
    "mse = np.sqrt(errs.mean())"
   ]
  },
  {
   "cell_type": "code",
   "execution_count": 77,
   "id": "84b2a627",
   "metadata": {},
   "outputs": [
    {
     "name": "stdout",
     "output_type": "stream",
     "text": [
      "Feature importances: [2520, 2943, 7487, 4367, 4196, 2655]\n"
     ]
    }
   ],
   "source": [
    "print('Feature importances:', list(model.feature_importance()))\n",
    "important_var = list(zip(predictors,list(model.feature_importance())))\n",
    "important_var.sort(key = lambda t: t[1])"
   ]
  },
  {
   "cell_type": "code",
   "execution_count": 78,
   "id": "60811c49",
   "metadata": {},
   "outputs": [
    {
     "name": "stdout",
     "output_type": "stream",
     "text": [
      "[('latetime', 2520), ('discount', 2655), ('earlytime', 2943), ('score', 4196), ('freq_3m', 4367), ('freq', 7487)]\n"
     ]
    },
    {
     "data": {
      "text/plain": [
       "6"
      ]
     },
     "execution_count": 78,
     "metadata": {},
     "output_type": "execute_result"
    }
   ],
   "source": [
    "print (important_var)\n",
    "len(important_var)\n"
   ]
  },
  {
   "cell_type": "code",
   "execution_count": 79,
   "id": "11edc6a4",
   "metadata": {},
   "outputs": [
    {
     "data": {
      "text/plain": [
       "<Figure size 2000x1000 with 0 Axes>"
      ]
     },
     "execution_count": 79,
     "metadata": {},
     "output_type": "execute_result"
    },
    {
     "data": {
      "text/plain": [
       "<Figure size 2000x1000 with 0 Axes>"
      ]
     },
     "metadata": {},
     "output_type": "display_data"
    }
   ],
   "source": [
    "import matplotlib.pyplot as plt\n",
    "import seaborn as sns\n",
    "feature_imp = pd.DataFrame(sorted(zip(model.feature_importance(), x_train.columns)), columns=['Value','Feature'])\n",
    "plt.figure(figsize=(20, 10))\n"
   ]
  },
  {
   "cell_type": "code",
   "execution_count": 80,
   "id": "b2a17f14",
   "metadata": {},
   "outputs": [
    {
     "data": {
      "image/png": "[encoded data removed]",
      "text/plain": [
       "<Figure size 640x480 with 1 Axes>"
      ]
     },
     "metadata": {},
     "output_type": "display_data"
    }
   ],
   "source": [
    "# other way seaborn for importance levels\n",
    "sns.barplot(x=\"Value\", y=\"Feature\", data=feature_imp.sort_values(by=\"Value\", ascending=False))\n",
    "plt.title('LightGBM Features (avg over folds)')\n",
    "plt.tight_layout()\n",
    "plt.show()\n"
   ]
  },
  {
   "cell_type": "code",
   "execution_count": null,
   "id": "71cede26",
   "metadata": {},
   "outputs": [],
   "source": []
  }
 ],
 "metadata": {
  "kernelspec": {
   "display_name": "Python 3 (ipykernel)",
   "language": "python",
   "name": "python3"
  },
  "language_info": {
   "codemirror_mode": {
    "name": "ipython",
    "version": 3
   },
   "file_extension": ".py",
   "mimetype": "text/x-python",
   "name": "python",
   "nbconvert_exporter": "python",
   "pygments_lexer": "ipython3",
   "version": "3.10.9"
  }
 },
 "nbformat": 4,
 "nbformat_minor": 5
}
